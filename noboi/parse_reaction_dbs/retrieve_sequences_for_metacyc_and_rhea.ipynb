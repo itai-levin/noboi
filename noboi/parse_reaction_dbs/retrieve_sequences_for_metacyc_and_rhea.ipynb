{
 "cells": [
  {
   "cell_type": "code",
   "execution_count": null,
   "id": "6161dff2",
   "metadata": {},
   "outputs": [],
   "source": [
    "import requests\n",
    "import re\n",
    "from tqdm import tqdm\n",
    "import time\n",
    "import pandas as pd"
   ]
  },
  {
   "cell_type": "code",
   "execution_count": null,
   "id": "5eda727c",
   "metadata": {},
   "outputs": [],
   "source": [
    "METACYC_PROTEINS_PATH = '/Users/Itai/Library/Mobile Documents/com~apple~CloudDocs/from_box/Grad/research/molecule_databases/Metacyc_v26.5/data/protein-seq-ids-unreduced.dat'"
   ]
  },
  {
   "cell_type": "code",
   "execution_count": null,
   "id": "717bedcf",
   "metadata": {},
   "outputs": [],
   "source": [
    "def query_genbank_proteins (id_list):\n",
    "    \"\"\"\n",
    "    Retrieve protein FASTA for list of GenBank accession IDs\n",
    "    \"\"\"\n",
    "    \n",
    "    db = 'protein'\n",
    "    ids_string = ','.join(id_list)\n",
    "    base = 'https://eutils.ncbi.nlm.nih.gov/entrez/eutils/'\n",
    "    \n",
    "    url = base + f\"epost.fcgi?db={db}&id={ids_string}\"\n",
    "    \n",
    "    res = requests.get(url).text\n",
    "    web = re.findall('(?<=<WebEnv>).*(?=<\\/WebEnv>)', res)\n",
    "    key = re.findall('(?<=<QueryKey>).*(?=<\\/QueryKey>)', res)\n",
    "    if len(web) and len(key):\n",
    "        web = web[0]\n",
    "        key = key[0] \n",
    "        url2 = base + f\"efetch.fcgi?db={db}&query_key={key}&WebEnv={web}\"+ \"&rettype=fasta&retmode=text\"\n",
    "        res = requests.get(url2).text.split('\\n\\n>')\n",
    "    else:\n",
    "        res = None\n",
    "    return res\n",
    "\n",
    "def query_batched (full_id_list, batch_size=100):\n",
    "    \"\"\"\n",
    "    Retrieve protein FASTA for list of GenBank accession IDs in batches\n",
    "    \"\"\"\n",
    "    list_of_lists = [full_id_list[i:i + batch_size] for i in range(0, len(full_id_list), batch_size)]\n",
    "    query_results = []\n",
    "    for ls in tqdm(list_of_lists):\n",
    "        res = query_genbank_proteins(ls)\n",
    "        query_results.extend(res)\n",
    "    return query_results\n",
    "    \n",
    "def parse_query_results (result):\n",
    "    \"\"\"\n",
    "    Extract information from queries to GenBank \n",
    "    \"\"\"\n",
    "    header = result.split('\\n')[0]\n",
    "\n",
    "    aid = header.split(' ')[0].replace('>','')\n",
    "    escaped_aid = re.escape(aid)\n",
    "    if '[' in header:\n",
    "        species = re.findall('(?<=\\[).*(?=\\])', header)[0]\n",
    "        common_name = re.findall(f'(?<={escaped_aid} ).*(?= \\[)', header)[0]\n",
    "    else:\n",
    "        species = 'NA'\n",
    "        print (aid)\n",
    "        try:\n",
    "            common_name = re.findall(f'(?<={escaped_aid} ).*$', header)[0]\n",
    "        except:\n",
    "            print (header)\n",
    "            common_name = None\n",
    "\n",
    "    sequence = ''.join(result.split('\\n')[1:])\n",
    "    \n",
    "    return {'id':aid, 'species':species, 'common_name':common_name, 'sequence':sequence}"
   ]
  },
  {
   "cell_type": "markdown",
   "id": "87e9e0e6",
   "metadata": {},
   "source": [
    "## GenBank"
   ]
  },
  {
   "cell_type": "code",
   "execution_count": null,
   "id": "f955f225",
   "metadata": {},
   "outputs": [],
   "source": [
    "genbank_accessions = []\n",
    "with open(METACYC_PROTEINS_PATH, 'r') as f:\n",
    "    for line in f:\n",
    "        genbank_accessions.extend(re.findall('(?<=PID:).+?(?=\\\")', line))"
   ]
  },
  {
   "cell_type": "code",
   "execution_count": null,
   "id": "943927b2",
   "metadata": {},
   "outputs": [],
   "source": [
    "queried = query_batched(genbank_accessions)"
   ]
  },
  {
   "cell_type": "code",
   "execution_count": null,
   "id": "504f8805",
   "metadata": {},
   "outputs": [],
   "source": [
    "queried"
   ]
  },
  {
   "cell_type": "code",
   "execution_count": null,
   "id": "0002a96d",
   "metadata": {},
   "outputs": [],
   "source": [
    "parsed_genbank_results = [parse_query_results(q) for q in tqdm(queried)]"
   ]
  },
  {
   "cell_type": "code",
   "execution_count": null,
   "id": "d28ecaf1",
   "metadata": {},
   "outputs": [],
   "source": [
    "ids = [p['id'].split('.')[0] for p in parsed_genbank_results]"
   ]
  },
  {
   "cell_type": "code",
   "execution_count": null,
   "id": "119e93f2",
   "metadata": {},
   "outputs": [],
   "source": [
    "missing = [g for g in genbank_accessions if g.split('.')[0] not in ids]\n",
    "print (len(set(missing)))\n",
    "print (set(missing))"
   ]
  },
  {
   "cell_type": "code",
   "execution_count": null,
   "id": "afff3ab5",
   "metadata": {},
   "outputs": [],
   "source": [
    "gid_dict = {}\n",
    "for gid in tqdm(set(missing)):\n",
    "    res = query_genbank_proteins([gid])\n",
    "    if res is not None:\n",
    "        gid_dict[gid] = res[0][1:].split(' ')[0]\n",
    "        time.sleep(0.5)\n",
    "    else:\n",
    "        print (gid)"
   ]
  },
  {
   "cell_type": "code",
   "execution_count": null,
   "id": "6af9dc06",
   "metadata": {},
   "outputs": [],
   "source": [
    "converted_genbank_ids = [g if g not in gid_dict.keys() else gid_dict[g] for g in genbank_accessions]"
   ]
  },
  {
   "cell_type": "code",
   "execution_count": null,
   "id": "9201876b",
   "metadata": {},
   "outputs": [],
   "source": [
    "new_missing = [g for g in converted_genbank_ids if g.split('.')[0] not in ids and g not in ids]\n",
    "print (new_missing)\n",
    "print (len(new_missing))"
   ]
  },
  {
   "cell_type": "code",
   "execution_count": null,
   "id": "ffc6ab68",
   "metadata": {},
   "outputs": [],
   "source": [
    "missing_queried = query_batched(new_missing, batch_size=1)"
   ]
  },
  {
   "cell_type": "code",
   "execution_count": null,
   "id": "a788dd7d",
   "metadata": {},
   "outputs": [],
   "source": [
    "parsed_genbank_results.extend([parse_query_results(q) for q in tqdm(missing_queried)])"
   ]
  },
  {
   "cell_type": "code",
   "execution_count": null,
   "id": "8b07a77c",
   "metadata": {},
   "outputs": [],
   "source": [
    "new_ids = [p['id'].split('.')[0] for p in parsed_genbank_results]"
   ]
  },
  {
   "cell_type": "code",
   "execution_count": null,
   "id": "90a261ec",
   "metadata": {},
   "outputs": [],
   "source": [
    "final_missing = [g for g in converted_genbank_ids if g.split('.')[0] not in new_ids and g not in new_ids]\n",
    "final_missing"
   ]
  },
  {
   "cell_type": "code",
   "execution_count": null,
   "id": "c4c0d6ba",
   "metadata": {},
   "outputs": [],
   "source": [
    "gid_dict"
   ]
  },
  {
   "cell_type": "code",
   "execution_count": null,
   "id": "3c80ffa5",
   "metadata": {},
   "outputs": [],
   "source": [
    "pid_to_sequence = {}\n",
    "\n",
    "for res in parsed_genbank_results:\n",
    "    if 'id' in res.keys():\n",
    "        pid_to_sequence[res['id'].split('.')[0]] = res['sequence']\n",
    "        \n",
    "for gid in gid_dict:\n",
    "    if gid_dict[gid].split('.')[0] in pid_to_sequence.keys():\n",
    "        pid_to_sequence[gid] = pid_to_sequence[gid_dict[gid].split('.')[0]]"
   ]
  },
  {
   "cell_type": "markdown",
   "id": "ebab0864",
   "metadata": {},
   "source": [
    "## Uniprot"
   ]
  },
  {
   "cell_type": "code",
   "execution_count": null,
   "id": "9822bee5",
   "metadata": {},
   "outputs": [],
   "source": [
    "uniprot_accessions = []\n",
    "with open(METACYC_PROTEINS_PATH, 'r') as f:\n",
    "    for line in f:\n",
    "        uniprot_accessions.extend(re.findall('(?<=UNIPROT:).*?\\\"', line))"
   ]
  },
  {
   "cell_type": "code",
   "execution_count": null,
   "id": "e8e4f62e",
   "metadata": {},
   "outputs": [],
   "source": [
    "unaccounted_for_accessions = [u for u in uniprot_accessions if ':' in u and u.split(':')[1] not in metacyc_proteins_df['REACTION_ID']]\n",
    "print (len(unaccounted_for_accessions))"
   ]
  },
  {
   "cell_type": "code",
   "execution_count": null,
   "id": "51c0134d",
   "metadata": {},
   "outputs": [],
   "source": [
    "####\n",
    "#### Used .py script instead\n",
    "####"
   ]
  },
  {
   "cell_type": "code",
   "execution_count": null,
   "id": "e2c2981a",
   "metadata": {},
   "outputs": [],
   "source": [
    "# from Uniprot\n",
    "# >db|UniqueIdentifier|EntryName ProteinName OS=OrganismName OX=OrganismIdentifier [GN=GeneName ]PE=ProteinExistence SV=SequenceVersion\n",
    "# db is 'sp' for UniProtKB/Swiss-Prot and 'tr' for UniProtKB/TrEMBL.\n",
    "# UniqueIdentifier is the primary accession number of the UniProtKB entry.\n",
    "# EntryName is the entry name of the UniProtKB entry.\n",
    "# ProteinName is the recommended name of the UniProtKB entry as annotated in the RecName field. For UniProtKB/TrEMBL entries without a RecName field, the SubName field is used. In case of multiple SubNames, the first one is used. The 'precursor' attribute is excluded, 'Fragment' is included with the name if applicable.\n",
    "# OrganismName is the scientific name of the organism of the UniProtKB entry.\n",
    "# OrganismIdentifier is the unique identifier of the source organism, assigned by the NCBI.\n",
    "# GeneName is the first gene name of the UniProtKB entry. If there is no gene name, OrderedLocusName or ORFname, the GN field is not listed.\n",
    "# ProteinExistence is the numerical value describing the evidence for the existence of the protein.\n",
    "# SequenceVersion is the version number of the sequence.\n",
    "\n",
    "def extract_header_information(header):\n",
    "    regex_pattern = r'>?([^|]+)\\|([^|]+)\\|([^ ]+?) (.*?)(?: OS=(.+?))(?: OX=(.+))?(?: GN=(.+?))?(?: PE=(.+?))(?: SV=(.+?))'\n",
    "    match = re.match(regex_pattern, header)\n",
    "    if match:\n",
    "        db_value = match.group(1)\n",
    "        unique_identifier = match.group(2)\n",
    "        entry_name = match.group(3)\n",
    "        protein_name = match.group(4)\n",
    "        organism_name = match.group(5)\n",
    "        organism_identifier = match.group(6)\n",
    "        gene_name = match.group(7)\n",
    "        protein_existence = match.group(8)\n",
    "        sequence_version = match.group(9)\n",
    "\n",
    "        return {\n",
    "            \"db\": db_value,\n",
    "            \"UniqueIdentifier\": unique_identifier,\n",
    "            \"EntryName\": entry_name,\n",
    "            \"ProteinName\": protein_name,\n",
    "            \"OrganismName\": organism_name,\n",
    "            \"OrganismIdentifier\": organism_identifier,\n",
    "            \"GeneName\": gene_name,\n",
    "            \"ProteinExistence\": protein_existence,\n",
    "            \"SequenceVersion\": sequence_version\n",
    "        }\n",
    "    else:\n",
    "        print (\"Failed parsing\")\n",
    "        return None\n",
    "\n",
    "# Example header with different 'db' values\n",
    "# header_example = '>sp|Q01740|FMO1_HUMAN Flavin-containing monooxygenase 1 OS=Homo sapiens OX=9606 GN=FMO1 PE=1 SV=3'\n",
    "header_example = '>sp|Q01740|FMO1_HUMAN Flavin-containing monooxygenase 1 OS=Homo sapiens OX=9606 PE=1 SV=3'\n",
    "# For another 'db' value\n",
    "# header_example = \">db2|789012|AnotherEntry AnotherProtein OS=Mouse OX=10090 PE=2 SV=2\"\n",
    "\n",
    "result = extract_header_information(header_example)\n",
    "if result:\n",
    "    print(\"Extracted Information:\")\n",
    "    for key, value in result.items():\n",
    "        print(f\"{key}: {value}\")\n",
    "else:\n",
    "    print(\"Header format doesn't match the pattern.\")\n",
    "\n",
    "\n",
    "def parse_uniprot_result (uniprot_result):\n",
    "    header = uniprot_result.split('\\n')[0]\n",
    "    sequence = ''.join(uniprot_result.split('\\n')[1:])\n",
    "    info = extract_header_information(header)\n",
    "    if info is not None:\n",
    "        info['sequence'] = sequence\n",
    "    else:\n",
    "        print (header)\n",
    "        print (sequence)\n",
    "    return info\n",
    "\n",
    "def parse_uniprot_batch (uniprot_batch):\n",
    "    result_ls = []\n",
    "    for uniprot_result in uniprot_batch.split('\\n>'):\n",
    "        if uniprot_result is not None:\n",
    "            parsed = parse_uniprot_result(uniprot_result)\n",
    "            if parsed is not None:\n",
    "                result_ls.append(parsed)\n",
    "    \n",
    "    return result_ls\n",
    "# def parse_batched_uniprot_results (batch_results):"
   ]
  },
  {
   "cell_type": "code",
   "execution_count": null,
   "id": "7773d52c",
   "metadata": {},
   "outputs": [],
   "source": [
    "### Load uniprot query results\n",
    "with open('uniprot_chkpoint.txt', 'r') as f:\n",
    "    uniprot_returned = f.readlines()"
   ]
  },
  {
   "cell_type": "code",
   "execution_count": null,
   "id": "d34a3de6",
   "metadata": {},
   "outputs": [],
   "source": [
    "# parsed_uniprot = []\n",
    "# for batch in uniprot_returned:\n",
    "#     parsed_uniprot.extend(parse_uniprot_batch(batch))\n",
    "parsed_uniprot = parse_uniprot_batch('\\n'.join(uniprot_returned))"
   ]
  },
  {
   "cell_type": "code",
   "execution_count": null,
   "id": "3673b8e6",
   "metadata": {},
   "outputs": [],
   "source": [
    "len(parsed_uniprot)"
   ]
  },
  {
   "cell_type": "code",
   "execution_count": null,
   "id": "20c021a6",
   "metadata": {},
   "outputs": [],
   "source": [
    "parsed_uniprot[167838]"
   ]
  },
  {
   "cell_type": "code",
   "execution_count": null,
   "id": "1cbf6dd2",
   "metadata": {},
   "outputs": [],
   "source": [
    "#### SAVED JUST IN CASE\n",
    "# with open('uniprot_chkpoint.txt', 'w') as f:\n",
    "#     for line in returned_uniprot:\n",
    "#         f.write(line)"
   ]
  },
  {
   "cell_type": "code",
   "execution_count": null,
   "id": "0333ea25",
   "metadata": {},
   "outputs": [],
   "source": [
    "def parse_metacyc_proteins(file_path):\n",
    "    # Define the regular expression pattern for extracting entries\n",
    "    results = []\n",
    "    entry_pattern = re.compile(r'\\((.*?)\\)')\n",
    "\n",
    "    # Open the file and read its content\n",
    "    with open(file_path, 'r') as file:\n",
    "        file_content = file.read()\n",
    "\n",
    "    # Find all matches of the entry pattern in the file content\n",
    "    entries = re.findall(r'\\((.*?)\\)', file_content, re.DOTALL)\n",
    "\n",
    "    # Process each entry\n",
    "    for entry in entries:\n",
    "        # Split the entry into its components\n",
    "        components = entry.split()\n",
    "\n",
    "        # Extract R_ID and EC_ID\n",
    "        r_id, ec_id = [c.strip('(') for c in components[:2]]\n",
    "\n",
    "        # Extract PIDs\n",
    "        pids = components[2:]\n",
    "\n",
    "        # Remove quotes from PIDs\n",
    "        pids = [pid.strip('\"') for pid in pids]\n",
    "\n",
    "        # Print or process the extracted information as needed\n",
    "        \n",
    "        for pid in pids:\n",
    "            if ':' in pid:\n",
    "                results.append({'REACTION_ID':r_id, 'EC':ec_id, 'SEQUENCE_ID':pid.split(':')[1], 'SEQUENCE_DB':pid.split(':')[0]})\n",
    "            else:\n",
    "                print (pid)\n",
    "        \n",
    "    return results\n",
    "        \n",
    "\n",
    "# Replace 'your_file.txt' with the actual path to your text file\n",
    "metacyc_proteins_info = parse_metacyc_proteins(METACYC_PROTEINS_PATH)"
   ]
  },
  {
   "cell_type": "code",
   "execution_count": null,
   "id": "33ba682d",
   "metadata": {},
   "outputs": [],
   "source": [
    "for res in parsed_uniprot:\n",
    "    pid_to_sequence[res['UniqueIdentifier']] = res['sequence']"
   ]
  },
  {
   "cell_type": "code",
   "execution_count": null,
   "id": "0e3566f7",
   "metadata": {},
   "outputs": [],
   "source": [
    "cleaned_gid_dict = {}\n",
    "\n",
    "for k,v in gid_dict.copy().items():\n",
    "    if 'Error' in v or (v==''):\n",
    "        pass\n",
    "    elif '|' in v and len(v.split('|')[1]) > 0:\n",
    "        cleaned_gid_dict[k] = gid_dict[k].split('|')[1].split('.')[0]\n",
    "    else:\n",
    "        cleaned_gid_dict[k] = gid_dict[k].split('.')[0]   "
   ]
  },
  {
   "cell_type": "code",
   "execution_count": null,
   "id": "586f32ef",
   "metadata": {},
   "outputs": [],
   "source": [
    "no_sequence = []\n",
    "for entry in metacyc_proteins_info:\n",
    "    clean_id = entry['SEQUENCE_ID'].split('.')[0]\n",
    "    if clean_id in pid_to_sequence.keys():\n",
    "        entry['sequence'] = pid_to_sequence[clean_id]\n",
    "    elif clean_id in gid_dict.keys():\n",
    "        try:\n",
    "            entry['sequence'] = pid_to_sequence[cleaned_gid_dict[clean_id]]\n",
    "        except:\n",
    "            print ('ERRRORORR', entry)\n",
    "            no_sequence.append(entry)\n",
    "    else:\n",
    "        print (entry)\n",
    "        no_sequence.append(entry)"
   ]
  },
  {
   "cell_type": "code",
   "execution_count": null,
   "id": "23d5c79b",
   "metadata": {},
   "outputs": [],
   "source": [
    "print (len(no_sequence))"
   ]
  },
  {
   "cell_type": "markdown",
   "id": "d25d01fc",
   "metadata": {},
   "source": [
    "## Improve querying for uniprot sequences"
   ]
  },
  {
   "cell_type": "code",
   "execution_count": null,
   "id": "51d5bb7e",
   "metadata": {},
   "outputs": [],
   "source": [
    "metacyc_proteins_df = pd.DataFrame(metacyc_proteins_info)"
   ]
  },
  {
   "cell_type": "code",
   "execution_count": null,
   "id": "c3a0976d",
   "metadata": {},
   "outputs": [],
   "source": [
    "no_sequence_in_df = set(metacyc_proteins_df.drop_duplicates(subset='REACTION_ID')['REACTION_ID'].tolist()) - set(metacyc_proteins_df.dropna(subset=['sequence']).drop_duplicates(subset='REACTION_ID')['REACTION_ID'].tolist())\n",
    "no_sequence_in_df"
   ]
  },
  {
   "cell_type": "code",
   "execution_count": null,
   "id": "52dd6d2a",
   "metadata": {},
   "outputs": [],
   "source": [
    "failed_to_get_sequence = metacyc_proteins_df[metacyc_proteins_df['REACTION_ID'].map(lambda x : x in no_sequence_in_df)]['REACTION_ID'].tolist()\n",
    "metacyc_proteins_df[metacyc_proteins_df['REACTION_ID'].map(lambda x : x in no_sequence_in_df)]"
   ]
  },
  {
   "cell_type": "code",
   "execution_count": null,
   "id": "a3be180d",
   "metadata": {},
   "outputs": [],
   "source": [
    "# metacyc_proteins_df.to_csv('10Nov2023_metacyc_reactions_with_sequences.csv', index=False)"
   ]
  },
  {
   "cell_type": "code",
   "execution_count": null,
   "id": "60110421",
   "metadata": {},
   "outputs": [],
   "source": [
    "ids_to_requery = metacyc_proteins_df[metacyc_proteins_df['REACTION_ID'].map(lambda x : x in failed_to_get_sequence)]['SEQUENCE_ID'].tolist()"
   ]
  },
  {
   "cell_type": "code",
   "execution_count": null,
   "id": "57069b0a",
   "metadata": {},
   "outputs": [],
   "source": [
    "ids_to_requery"
   ]
  },
  {
   "cell_type": "code",
   "execution_count": null,
   "id": "0502e8fb",
   "metadata": {},
   "outputs": [],
   "source": [
    "requeried_uniprot = []\n",
    "for u_id in tqdm(ids_to_requery):\n",
    "    res = requests.get(f\"https://rest.uniprot.org/uniprotkb/search?query={u_id}\").text\n",
    "    if \"mergeDemergeTo\" in res:\n",
    "        new_id = re.findall('(?<=mergeDemergeTo\":\\[\").+?(?=\"\\])', res)[0]\n",
    "        res = requests.get(f\"https://rest.uniprot.org/uniprotkb/search?query={new_id}&format=fasta\").text\n",
    "    elif '\"sequence\":{\"value\":\"' in res:\n",
    "        res = requests.get(f\"https://rest.uniprot.org/uniprotkb/search?query={u_id}&format=fasta\").text\n",
    "    requeried_uniprot.append(res)\n",
    "    time.sleep(0.5)"
   ]
  },
  {
   "cell_type": "code",
   "execution_count": null,
   "id": "de43c91a",
   "metadata": {},
   "outputs": [],
   "source": [
    "parsed_requeried_uniprot = [parse_uniprot_result(r) for r in requeried_uniprot]"
   ]
  },
  {
   "cell_type": "code",
   "execution_count": null,
   "id": "5a75f1ac",
   "metadata": {},
   "outputs": [],
   "source": [
    "updated_pid_to_sequence = pid_to_sequence.copy()\n",
    "for idx, entry in zip(ids_to_requery, parsed_requeried_uniprot):\n",
    "    if entry is not None:\n",
    "        updated_pid_to_sequence[idx] = entry['sequence']"
   ]
  },
  {
   "cell_type": "code",
   "execution_count": null,
   "id": "03843976",
   "metadata": {},
   "outputs": [],
   "source": [
    "for idx in metacyc_proteins_df[metacyc_proteins_df['sequence'].isna()].index:\n",
    "    if metacyc_proteins_df.loc[idx, 'SEQUENCE_ID'] in updated_pid_to_sequence:\n",
    "        metacyc_proteins_df.loc[idx, 'sequence'] = updated_pid_to_sequence[metacyc_proteins_df.loc[idx, 'SEQUENCE_ID']]\n",
    "\n",
    "# metacyc_proteins_df.dropna(subset=['sequence'])"
   ]
  },
  {
   "cell_type": "code",
   "execution_count": null,
   "id": "fce58ecb",
   "metadata": {},
   "outputs": [],
   "source": [
    "new_no_sequence_in_df = set(metacyc_proteins_df.drop_duplicates(subset='REACTION_ID')['REACTION_ID'].tolist()) - set(metacyc_proteins_df.dropna(subset=['sequence']).drop_duplicates(subset='REACTION_ID')['REACTION_ID'].tolist())\n"
   ]
  },
  {
   "cell_type": "code",
   "execution_count": null,
   "id": "2c284d64",
   "metadata": {},
   "outputs": [],
   "source": [
    "new_no_sequence_in_df"
   ]
  },
  {
   "cell_type": "code",
   "execution_count": null,
   "id": "24ac8db0",
   "metadata": {},
   "outputs": [],
   "source": [
    "metacyc_proteins_df.dropna(subset=['sequence']).drop_duplicates(subset=['REACTION_ID'])"
   ]
  },
  {
   "cell_type": "code",
   "execution_count": null,
   "id": "5ae1e973",
   "metadata": {},
   "outputs": [],
   "source": [
    "metacyc_proteins_df.to_csv('21Nov2023_metacyc_reactions_with_sequences.csv', index=False)"
   ]
  },
  {
   "cell_type": "code",
   "execution_count": null,
   "id": "b4063862",
   "metadata": {},
   "outputs": [],
   "source": [
    "import json\n",
    "with open ('protein_id_to_sequence.json', 'w') as f:\n",
    "    json.dump(updated_pid_to_sequence, f)"
   ]
  },
  {
   "cell_type": "code",
   "execution_count": null,
   "id": "6a903f0d",
   "metadata": {},
   "outputs": [],
   "source": [
    "with open('protein_id_to_sequence.json','r') as f:\n",
    "    test_dict = json.load(f)"
   ]
  },
  {
   "cell_type": "code",
   "execution_count": null,
   "id": "a0f30ece",
   "metadata": {},
   "outputs": [],
   "source": [
    "test_dict['AAH16836']"
   ]
  },
  {
   "cell_type": "code",
   "execution_count": null,
   "id": "f7939775",
   "metadata": {},
   "outputs": [],
   "source": []
  },
  {
   "cell_type": "code",
   "execution_count": null,
   "id": "e9d9a320",
   "metadata": {},
   "outputs": [],
   "source": [
    "metacyc_reactions_df = pd.read_csv('metacyc/08Mar2023_metacyc_reaction_smiles_no_cofs.tsv', sep='\\t')"
   ]
  },
  {
   "cell_type": "code",
   "execution_count": null,
   "id": "ec268743",
   "metadata": {},
   "outputs": [],
   "source": [
    "metacyc_reactions_df = metacyc_reactions_df.merge(metacyc_proteins_df.dropna(subset=['sequence']).drop_duplicates('REACTION_ID'), \n",
    "                           left_on='UNIQUE-ID', right_on='REACTION_ID', how='left')"
   ]
  },
  {
   "cell_type": "code",
   "execution_count": null,
   "id": "1f7250b3",
   "metadata": {},
   "outputs": [],
   "source": [
    "metacyc_reactions_df.to_csv('metacyc/21Nov2023_metacyc_reaction_smiles_no_cofs_with_sequences.tsv', sep='\\t', index=False)"
   ]
  },
  {
   "cell_type": "markdown",
   "id": "d520702c",
   "metadata": {},
   "source": [
    "## Parse queries from Rhea"
   ]
  },
  {
   "cell_type": "code",
   "execution_count": null,
   "id": "30497a70",
   "metadata": {},
   "outputs": [],
   "source": [
    "with open('uniprot_chkpoint_for_rhea.txt','r') as f:\n",
    "    uniprot_rhea_returned = f.readlines()"
   ]
  },
  {
   "cell_type": "code",
   "execution_count": null,
   "id": "f7eda371",
   "metadata": {},
   "outputs": [],
   "source": [
    "parsed_uniprot_rhea = parse_uniprot_batch('\\n'.join(uniprot_rhea_returned))"
   ]
  },
  {
   "cell_type": "code",
   "execution_count": null,
   "id": "02f8fda9",
   "metadata": {},
   "outputs": [],
   "source": [
    "rhea_proteins_df = pd.read_csv('rhea/rhea2uniprot_sprot.tsv', sep='\\t')"
   ]
  },
  {
   "cell_type": "code",
   "execution_count": null,
   "id": "331169bf",
   "metadata": {},
   "outputs": [],
   "source": [
    "metacyc_proteins_df # pd.DataFrame(metacyc_proteins_info)"
   ]
  },
  {
   "cell_type": "code",
   "execution_count": null,
   "id": "c7c1604c",
   "metadata": {},
   "outputs": [],
   "source": [
    "for entry in parsed_uniprot_rhea:\n",
    "    updated_pid_to_sequence[entry['UniqueIdentifier']] = entry['sequence']"
   ]
  },
  {
   "cell_type": "code",
   "execution_count": null,
   "id": "9ff06424",
   "metadata": {},
   "outputs": [],
   "source": [
    "rhea_proteins_df['sequence'] = [updated_pid_to_sequence[idx] for idx in rhea_proteins_df['ID']]"
   ]
  },
  {
   "cell_type": "code",
   "execution_count": null,
   "id": "fd8d2bae",
   "metadata": {},
   "outputs": [],
   "source": [
    "rhea_proteins_df.to_csv('12Nov2023_rhea_proteins_with_sequences.csv', index=False)"
   ]
  },
  {
   "cell_type": "code",
   "execution_count": null,
   "id": "cf0a59d2",
   "metadata": {},
   "outputs": [],
   "source": [
    "rhea_reactions = pd.read_csv('rhea/08Mar2023_rhea_reaction_smiles_no_cofs.csv', sep='\\t')"
   ]
  },
  {
   "cell_type": "code",
   "execution_count": null,
   "id": "296774ca",
   "metadata": {},
   "outputs": [],
   "source": [
    "rid_to_seq = pd.Series(rhea_proteins_df['sequence'].values, index=rhea_proteins_df['RHEA_ID'].values).to_dict()"
   ]
  },
  {
   "cell_type": "code",
   "execution_count": null,
   "id": "9901b046",
   "metadata": {},
   "outputs": [],
   "source": [
    "idx2seq = {}\n",
    "for idx in rhea_reactions.index:\n",
    "    rhea_ids = [int(x) for x in re.findall('(?<=RHEA:)[0-9]+', rhea_reactions.loc[idx,'ID'])]\n",
    "    for rid in rhea_ids:\n",
    "        if rid in rid_to_seq.keys():\n",
    "            idx2seq[idx] = rid_to_seq[rid]\n",
    "        "
   ]
  },
  {
   "cell_type": "code",
   "execution_count": null,
   "id": "bcbf8a8c",
   "metadata": {},
   "outputs": [],
   "source": [
    "len(idx2seq)"
   ]
  },
  {
   "cell_type": "code",
   "execution_count": null,
   "id": "b949f970",
   "metadata": {},
   "outputs": [],
   "source": [
    "rhea_reactions['sequence'] = [idx2seq[idx] if idx in idx2seq.keys() else None for idx in rhea_reactions.index]"
   ]
  },
  {
   "cell_type": "code",
   "execution_count": null,
   "id": "7050ad6a",
   "metadata": {},
   "outputs": [],
   "source": [
    "rhea_reactions[rhea_reactions['sequence'].isna()]"
   ]
  },
  {
   "cell_type": "code",
   "execution_count": null,
   "id": "a0809cb9",
   "metadata": {},
   "outputs": [],
   "source": [
    "rhea_reactions"
   ]
  },
  {
   "cell_type": "code",
   "execution_count": null,
   "id": "24499917",
   "metadata": {},
   "outputs": [],
   "source": [
    "rhea_reactions.to_csv('rhea/21Nov2023_rhea_reaction_smiles_no_cofs_with_sequences.csv', index=False, sep='\\t')"
   ]
  },
  {
   "cell_type": "code",
   "execution_count": null,
   "id": "03d421d1",
   "metadata": {},
   "outputs": [],
   "source": []
  }
 ],
 "metadata": {
  "kernelspec": {
   "display_name": "crawl",
   "language": "python",
   "name": "crawl"
  },
  "language_info": {
   "codemirror_mode": {
    "name": "ipython",
    "version": 3
   },
   "file_extension": ".py",
   "mimetype": "text/x-python",
   "name": "python",
   "nbconvert_exporter": "python",
   "pygments_lexer": "ipython3",
   "version": "3.9.12"
  }
 },
 "nbformat": 4,
 "nbformat_minor": 5
}
