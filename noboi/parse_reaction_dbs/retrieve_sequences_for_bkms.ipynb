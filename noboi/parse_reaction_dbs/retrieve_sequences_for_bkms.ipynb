{
 "cells": [
  {
   "cell_type": "code",
   "execution_count": null,
   "id": "f6e07415",
   "metadata": {},
   "outputs": [],
   "source": [
    "import pandas as pd\n",
    "import json\n",
    "import re\n",
    "import requests\n",
    "import numpy as np"
   ]
  },
  {
   "cell_type": "code",
   "execution_count": null,
   "id": "8f9f50cc",
   "metadata": {},
   "outputs": [],
   "source": [
    "# Get query results from uniprot (for UNIPROT ID —> sequence)\n",
    "with open('20Nov2023uniprot_chkpoint_for_brenda.txt', 'r') as f:\n",
    "    queried = f.readlines()"
   ]
  },
  {
   "cell_type": "code",
   "execution_count": null,
   "id": "3ec91c3b",
   "metadata": {},
   "outputs": [],
   "source": [
    "print (len(queried))\n",
    "queried = [x for x in queried if 'rror' not in x]\n",
    "print (len(queried))"
   ]
  },
  {
   "cell_type": "code",
   "execution_count": null,
   "id": "64a8e79d",
   "metadata": {},
   "outputs": [],
   "source": [
    "def extract_header_information(header):\n",
    "    regex_pattern = r'>?([^|]+)\\|([^|]+)\\|([^ ]+?) (.*?)(?: OS=(.+?))(?: OX=(.+))?(?: GN=(.+?))?(?: PE=(.+?))(?: SV=(.+?))'\n",
    "    match = re.match(regex_pattern, header)\n",
    "    if match:\n",
    "        db_value = match.group(1)\n",
    "        unique_identifier = match.group(2)\n",
    "        entry_name = match.group(3)\n",
    "        protein_name = match.group(4)\n",
    "        organism_name = match.group(5)\n",
    "        organism_identifier = match.group(6)\n",
    "        gene_name = match.group(7)\n",
    "        protein_existence = match.group(8)\n",
    "        sequence_version = match.group(9)\n",
    "\n",
    "        return {\n",
    "            \"db\": db_value,\n",
    "            \"UniqueIdentifier\": unique_identifier,\n",
    "            \"EntryName\": entry_name,\n",
    "            \"ProteinName\": protein_name,\n",
    "            \"OrganismName\": organism_name,\n",
    "            \"OrganismIdentifier\": organism_identifier,\n",
    "            \"GeneName\": gene_name,\n",
    "            \"ProteinExistence\": protein_existence,\n",
    "            \"SequenceVersion\": sequence_version\n",
    "        }\n",
    "    else:\n",
    "        print (\"Failed parsing\")\n",
    "        return None\n",
    "\n",
    "header_example = '>sp|Q01740|FMO1_HUMAN Flavin-containing monooxygenase 1 OS=Homo sapiens OX=9606 PE=1 SV=3'\n",
    "\n",
    "\n",
    "result = extract_header_information(header_example)\n",
    "if result:\n",
    "    print(\"Extracted Information:\")\n",
    "    for key, value in result.items():\n",
    "        print(f\"{key}: {value}\")\n",
    "else:\n",
    "    print(\"Header format doesn't match the pattern.\")\n",
    "\n",
    "\n",
    "def parse_uniprot_result (uniprot_result):\n",
    "    header = uniprot_result.split('\\n')[0]\n",
    "    sequence = ''.join(uniprot_result.split('\\n')[1:])\n",
    "    info = extract_header_information(header)\n",
    "    if info is not None:\n",
    "        info['sequence'] = sequence\n",
    "    else:\n",
    "        print (header)\n",
    "        print (sequence)\n",
    "    return info\n",
    "\n",
    "def parse_uniprot_batch (uniprot_batch):\n",
    "    result_ls = []\n",
    "    for uniprot_result in uniprot_batch.split('\\n>'):\n",
    "        if uniprot_result is not None:\n",
    "            parsed = parse_uniprot_result(uniprot_result)\n",
    "            if parsed is not None:\n",
    "                result_ls.append(parsed)\n",
    "    return result_ls"
   ]
  },
  {
   "cell_type": "code",
   "execution_count": null,
   "id": "a4e8f46f",
   "metadata": {},
   "outputs": [],
   "source": [
    "parsed_queried = parse_uniprot_batch(''.join(queried))"
   ]
  },
  {
   "cell_type": "code",
   "execution_count": null,
   "id": "de2aa274",
   "metadata": {},
   "outputs": [],
   "source": [
    "# get previously parsed dictionary of UNIPROT ID —> sequence \n",
    "with open('protein_id_to_sequence.json', 'r') as f:\n",
    "    pid2seq = json.load(f)"
   ]
  },
  {
   "cell_type": "code",
   "execution_count": null,
   "id": "2f1ab2f0",
   "metadata": {},
   "outputs": [],
   "source": [
    "# Add BRENDA UNIPROT IDs to dictionary\n",
    "for entry in parsed_queried:\n",
    "    pid2seq[entry['UniqueIdentifier']] = entry['sequence']"
   ]
  },
  {
   "cell_type": "code",
   "execution_count": null,
   "id": "2fa63768",
   "metadata": {},
   "outputs": [],
   "source": [
    "# Save more complete dictionary\n",
    "with open('20Nov2023_protein_id_to_sequence.json','w') as f:\n",
    "    json.dump(pid2seq, f)"
   ]
  },
  {
   "cell_type": "code",
   "execution_count": null,
   "id": "5516c0a8",
   "metadata": {},
   "outputs": [],
   "source": [
    "# Get info linking brenda reactions to UNIPROT IDs\n",
    "with open('../parse_reaction_dbs/brenda/scraped_brenda_substrate_results.json', 'r') as f:\n",
    "    #requires further conversion from uniprot to seq\n",
    "    brenda2uniprot = json.load(f)"
   ]
  },
  {
   "cell_type": "code",
   "execution_count": null,
   "id": "468214a0",
   "metadata": {},
   "outputs": [],
   "source": [
    "# clean brenda dict\n",
    "# remove lines with no UNIPROT ID\n",
    "cleaned_brenda2uniprot = {}\n",
    "for ec in brenda2uniprot:\n",
    "    new_entries = []\n",
    "    for entry in brenda2uniprot[ec]:\n",
    "        if entry['UNIPROT']!='-' and len(entry['UNIPROT']) and entry['SUBSTRATE']!='additional information'and entry['PRODUCT']!='?':\n",
    "            new_entry = entry\n",
    "            new_entry['molecules'] = set(entry['PRODUCT'].split(' + ')).union(set(entry['SUBSTRATE'].split(' + ')))\n",
    "            new_entries.append(new_entry)\n",
    "    cleaned_brenda2uniprot[ec] = new_entries"
   ]
  },
  {
   "cell_type": "code",
   "execution_count": null,
   "id": "0a0826fe",
   "metadata": {},
   "outputs": [],
   "source": [
    "bkms = pd.read_csv('bkms/1Sep2023_bkms-mapped.txt', sep='\\t').drop(columns=['Unnamed: 0.1','index','Unnamed: 0'])"
   ]
  },
  {
   "cell_type": "code",
   "execution_count": null,
   "id": "f4c682fd",
   "metadata": {},
   "outputs": [],
   "source": [
    "brenda_subset = bkms.dropna(subset=['Reaction_ID_BRENDA'])\n",
    "print (len (brenda_subset))"
   ]
  },
  {
   "cell_type": "code",
   "execution_count": null,
   "id": "6888f341",
   "metadata": {},
   "outputs": [],
   "source": [
    "def get_reactants (reaction):\n",
    "    if '<=>' in reaction:\n",
    "        return reaction.split(' <=> ')[0].split(' + ')\n",
    "    elif ' = ' in reaction:\n",
    "        return reaction.split(' = ')[0].split(' + ')\n",
    "    else:\n",
    "        raise \n",
    "def get_products (reaction):\n",
    "    if '<=>' in reaction:\n",
    "        return reaction.split(' <=> ')[1].split(' + ')\n",
    "    elif ' = ' in reaction:\n",
    "        return reaction.split(' = ')[1].split(' + ')\n",
    "    else:\n",
    "        raise \n",
    "        \n",
    "brenda_subset['reactants'] = brenda_subset['Reaction'].map(lambda x : get_reactants(x))\n",
    "brenda_subset['products'] = brenda_subset['Reaction'].map(lambda x : get_products(x))\n",
    "brenda_subset['molecules'] = brenda_subset['Reaction'].map(lambda x : set(get_products(x)).union(set(get_reactants(x))) )"
   ]
  },
  {
   "cell_type": "code",
   "execution_count": null,
   "id": "500c0dca",
   "metadata": {},
   "outputs": [],
   "source": [
    "idx2uniprot = {}\n",
    "no_ec = []\n",
    "empty_ec = []\n",
    "for idx in brenda_subset.index:\n",
    "    ec =  brenda_subset.loc[idx,'EC_Number']\n",
    "    if ec =='SPONTANEOUS':\n",
    "        idx2uniprot[idx] = 'SPONTANEOUS'\n",
    "    else:    \n",
    "        if ec in cleaned_brenda2uniprot.keys():\n",
    "            brenda_ec_page = cleaned_brenda2uniprot[ec]\n",
    "            overlaps = []\n",
    "            if len(brenda_ec_page):\n",
    "                for entry in brenda_ec_page:\n",
    "                    overlap = len(entry['molecules'].intersection(brenda_subset.loc[idx,'molecules']))\n",
    "                    overlaps.append(overlap)\n",
    "                \n",
    "                idx2uniprot[idx] = brenda_ec_page[np.argmax(overlaps)]['UNIPROT']\n",
    "            else:\n",
    "                empty_ec.append(ec)"
   ]
  },
  {
   "cell_type": "code",
   "execution_count": null,
   "id": "2232b01d",
   "metadata": {},
   "outputs": [],
   "source": [
    "idx2seq = {}\n",
    "for k,pid in idx2uniprot.items():\n",
    "    \n",
    "    if pid == 'SPONTANEOUS':\n",
    "        idx2seq[k] = 'SPONTANEOUS'\n",
    "        \n",
    "    uniprot_options = [x.strip() for x in pid.replace(';',',').split(',')]\n",
    "    \n",
    "    for uid in uniprot_options:\n",
    "        if uid in pid2seq.keys():\n",
    "            idx2seq[k] = pid2seq[uid]"
   ]
  },
  {
   "cell_type": "code",
   "execution_count": null,
   "id": "76e8ec4b",
   "metadata": {},
   "outputs": [],
   "source": [
    "len(idx2seq)"
   ]
  },
  {
   "cell_type": "code",
   "execution_count": null,
   "id": "8d0cf114",
   "metadata": {},
   "outputs": [],
   "source": [
    "bkms['sequence'] = [idx2seq[idx] if idx in idx2seq.keys() else None for idx in bkms.index]"
   ]
  },
  {
   "cell_type": "code",
   "execution_count": null,
   "id": "313191c3",
   "metadata": {},
   "outputs": [],
   "source": [
    "bkms['sequence'].dropna()"
   ]
  },
  {
   "cell_type": "markdown",
   "id": "1cf9b58a",
   "metadata": {},
   "source": [
    "## KEGG"
   ]
  },
  {
   "cell_type": "code",
   "execution_count": null,
   "id": "75f78922",
   "metadata": {},
   "outputs": [],
   "source": [
    "with open('../parse_reaction_dbs/kegg/kegg_rids_to_sequences.json', 'r') as f:\n",
    "    kegg2seq = json.load(f)"
   ]
  },
  {
   "cell_type": "code",
   "execution_count": null,
   "id": "a5b96bd4",
   "metadata": {},
   "outputs": [],
   "source": [
    "# Prefer KEGG sequence over BRENDA-derived sequence\n",
    "for idx in bkms[~bkms['Reaction_ID_KEGG'].isna()].index:\n",
    "    kegg_ids = bkms.loc[idx, 'Reaction_ID_KEGG'].replace(';',',').split(',')\n",
    "    for kid in kegg_ids:\n",
    "        if  kid in kegg2seq.keys():\n",
    "            kegg_entry = kegg2seq[kid]\n",
    "            if kegg_entry:\n",
    "                bkms.loc[idx,'sequence'] = kegg_entry['sequence']"
   ]
  },
  {
   "cell_type": "code",
   "execution_count": null,
   "id": "69676e70",
   "metadata": {},
   "outputs": [],
   "source": [
    "bkms['sequence'].dropna()"
   ]
  },
  {
   "cell_type": "code",
   "execution_count": null,
   "id": "3d45e609",
   "metadata": {},
   "outputs": [],
   "source": [
    "bkms['Remark'].drop_duplicates()"
   ]
  },
  {
   "cell_type": "markdown",
   "id": "44a51126",
   "metadata": {},
   "source": [
    "## MetaCyc"
   ]
  },
  {
   "cell_type": "code",
   "execution_count": null,
   "id": "81578f87",
   "metadata": {},
   "outputs": [],
   "source": [
    "metacyc2seq = pd.read_csv('21Nov2023_metacyc_reactions_with_sequences.csv')"
   ]
  },
  {
   "cell_type": "code",
   "execution_count": null,
   "id": "e5fa50c1",
   "metadata": {},
   "outputs": [],
   "source": [
    "metacyc2seq_dict = pd.Series(metacyc2seq['sequence'].values, index = metacyc2seq['REACTION_ID'].values).to_dict()"
   ]
  },
  {
   "cell_type": "code",
   "execution_count": null,
   "id": "bad881ad",
   "metadata": {},
   "outputs": [],
   "source": [
    "for idx in bkms[~bkms['Reaction_ID_MetaCyc'].isna()].index:\n",
    "    metacyc_ids = bkms.loc[idx, 'Reaction_ID_MetaCyc'].replace(';',',').split(',')\n",
    "    for mid in metacyc_ids:\n",
    "        if  bkms.loc[idx, 'Reaction_ID_MetaCyc'] in metacyc2seq_dict.keys():\n",
    "            bkms.loc[idx,'sequence'] = metacyc2seq_dict[bkms.loc[idx, 'Reaction_ID_MetaCyc']]"
   ]
  },
  {
   "cell_type": "code",
   "execution_count": null,
   "id": "b94d9cbf",
   "metadata": {},
   "outputs": [],
   "source": [
    "bkms['sequence'].dropna()"
   ]
  },
  {
   "cell_type": "code",
   "execution_count": null,
   "id": "22f0008d",
   "metadata": {},
   "outputs": [],
   "source": [
    "bkms[bkms['EC_Number'].map(lambda x: ',' in str(x))]"
   ]
  },
  {
   "cell_type": "code",
   "execution_count": null,
   "id": "abc104a7",
   "metadata": {},
   "outputs": [],
   "source": [
    "np.random.seed(4)\n",
    "ridxs = np.random.choice(bkms[bkms['sequence'].isna()].index, 5)\n",
    "\n",
    "bkms.loc[ridxs,:]"
   ]
  },
  {
   "cell_type": "code",
   "execution_count": null,
   "id": "43b7e2ac",
   "metadata": {},
   "outputs": [],
   "source": [
    "bkms.to_csv('bkms/21Nov2023_bkms-mapped_w_seqs.tsv', sep='\\t', index=False)"
   ]
  },
  {
   "cell_type": "code",
   "execution_count": null,
   "id": "01371694",
   "metadata": {},
   "outputs": [],
   "source": []
  }
 ],
 "metadata": {
  "kernelspec": {
   "display_name": "crawl",
   "language": "python",
   "name": "crawl"
  },
  "language_info": {
   "codemirror_mode": {
    "name": "ipython",
    "version": 3
   },
   "file_extension": ".py",
   "mimetype": "text/x-python",
   "name": "python",
   "nbconvert_exporter": "python",
   "pygments_lexer": "ipython3",
   "version": "3.9.12"
  }
 },
 "nbformat": 4,
 "nbformat_minor": 5
}
