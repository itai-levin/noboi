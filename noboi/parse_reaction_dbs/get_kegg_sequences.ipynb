{
 "cells": [
  {
   "cell_type": "code",
   "execution_count": null,
   "id": "9ecdd9c5",
   "metadata": {},
   "outputs": [],
   "source": [
    "from bs4 import BeautifulSoup\n",
    "import re\n",
    "import pandas as pd\n",
    "import requests\n",
    "from tqdm import tqdm\n",
    "import numpy as np\n",
    "import json"
   ]
  },
  {
   "cell_type": "code",
   "execution_count": null,
   "id": "5c7cd910",
   "metadata": {},
   "outputs": [],
   "source": [
    "bkms_reactions = pd.read_csv('bkms/1Sep2023_bkms-mapped.txt',sep='\\t')"
   ]
  },
  {
   "cell_type": "code",
   "execution_count": null,
   "id": "f17f9ad2",
   "metadata": {},
   "outputs": [],
   "source": [
    "kegg_rids = bkms_reactions['Reaction_ID_KEGG'].drop_duplicates().tolist()"
   ]
  },
  {
   "cell_type": "code",
   "execution_count": null,
   "id": "183a9a9b",
   "metadata": {},
   "outputs": [],
   "source": [
    "len(bkms_reactions['Reaction_ID_KEGG'].drop_duplicates().tolist())"
   ]
  },
  {
   "cell_type": "code",
   "execution_count": null,
   "id": "6ea5d795",
   "metadata": {},
   "outputs": [],
   "source": [
    "class KeggPage():\n",
    "    def __init__(self, url):\n",
    "        res = requests.get(url)\n",
    "        self.soup = BeautifulSoup(res.text, 'html.parser')\n",
    "        self.get_other_dbs()\n",
    "        \n",
    "    def get_other_dbs(self):\n",
    "        for tr in self.soup.find_all('tr'):\n",
    "            if 'Other DBs' in tr.text:\n",
    "                self.other_dbs = tr.text\n",
    "    \n",
    "#     def get_other_dbs_ref(self):\n",
    "        "
   ]
  },
  {
   "cell_type": "code",
   "execution_count": null,
   "id": "f2af74c3",
   "metadata": {},
   "outputs": [],
   "source": [
    "kp = KeggPage('https://www.genome.jp/entry/R03024')"
   ]
  },
  {
   "cell_type": "code",
   "execution_count": null,
   "id": "13c41e37",
   "metadata": {},
   "outputs": [],
   "source": [
    "kp.other_dbs"
   ]
  },
  {
   "cell_type": "code",
   "execution_count": null,
   "id": "383e3fd2",
   "metadata": {},
   "outputs": [],
   "source": [
    "[x.text if x is not None else x for x in kp.soup.find_all('tr')]"
   ]
  },
  {
   "cell_type": "code",
   "execution_count": null,
   "id": "e94b76e5",
   "metadata": {},
   "outputs": [],
   "source": [
    "'Other DBs' in [x for x in kp.soup.find_all('tr')][-2].text"
   ]
  },
  {
   "cell_type": "code",
   "execution_count": null,
   "id": "4aa811f7",
   "metadata": {},
   "outputs": [],
   "source": [
    "for p in [x for x in kp.soup.find_all('td', class_='td{}'.format(kp.other_dbs_idx))]:\n",
    "    print ([y.text for y in p.find_all('table')])"
   ]
  },
  {
   "cell_type": "code",
   "execution_count": null,
   "id": "9f7bc017",
   "metadata": {},
   "outputs": [],
   "source": [
    "[x for x in kp.soup.find_all('td', class_='td{}'.format(kp.other_dbs_idx))][-1].find_all('table')"
   ]
  },
  {
   "cell_type": "code",
   "execution_count": null,
   "id": "b82e6d45",
   "metadata": {},
   "outputs": [],
   "source": [
    "kps = [KeggPage('https://www.genome.jp/entry/'+r.split(',')[0]) for r in bkms_reactions['Reaction_ID_KEGG'].drop_duplicates().tolist()[:100]]"
   ]
  },
  {
   "cell_type": "code",
   "execution_count": null,
   "id": "17ae5e09",
   "metadata": {},
   "outputs": [],
   "source": [
    "for k in kps:\n",
    "    try:\n",
    "        print (k.other_dbs)\n",
    "    except:\n",
    "        print ('failed')"
   ]
  },
  {
   "cell_type": "code",
   "execution_count": null,
   "id": "ef427995",
   "metadata": {},
   "outputs": [],
   "source": [
    "for i in range(10):\n",
    "    kp = kps[i]\n",
    "    print (i)\n",
    "    for p in [x for x in kp.soup.find_all('td', class_='td{}'.format(kp.other_dbs_idx))]:\n",
    "        print ([y.text for y in p.find_all('table')])"
   ]
  },
  {
   "cell_type": "code",
   "execution_count": null,
   "id": "fb377fb3",
   "metadata": {},
   "outputs": [],
   "source": []
  },
  {
   "cell_type": "code",
   "execution_count": null,
   "id": "297c0c89",
   "metadata": {},
   "outputs": [],
   "source": []
  },
  {
   "cell_type": "code",
   "execution_count": null,
   "id": "cd5ad95d",
   "metadata": {},
   "outputs": [],
   "source": [
    "def get_genes_for_kegg_rid (krid):\n",
    "    kegg_gene_url = 'https://www.genome.jp/dbget-bin/get_linkdb?-t+genes+rn:'\n",
    "    url = kegg_gene_url+krid\n",
    "    res = requests.get(url)\n",
    "    soup = BeautifulSoup(res.text, 'html.parser')\n",
    "    return [a.get('href') for a in soup.find_all('a') if a.get('href') and 'entry' in a.get('href')]"
   ]
  },
  {
   "cell_type": "code",
   "execution_count": null,
   "id": "5f884491",
   "metadata": {},
   "outputs": [],
   "source": [
    "get_genes_for_kegg_rid('R04132')"
   ]
  },
  {
   "cell_type": "code",
   "execution_count": null,
   "id": "398642f2",
   "metadata": {},
   "outputs": [],
   "source": [
    "kegg_rids_to_genes['R04132']"
   ]
  },
  {
   "cell_type": "code",
   "execution_count": null,
   "id": "991cafd6",
   "metadata": {},
   "outputs": [],
   "source": [
    "get_genes_for_kegg_rid(kegg_rids[0])"
   ]
  },
  {
   "cell_type": "code",
   "execution_count": null,
   "id": "64cdb4a7",
   "metadata": {},
   "outputs": [],
   "source": [
    "unique_kegg_rids =(','.join([str(x) for x in kegg_rids])).split(',')"
   ]
  },
  {
   "cell_type": "code",
   "execution_count": null,
   "id": "1d725483",
   "metadata": {},
   "outputs": [],
   "source": [
    "unique_kegg_rids"
   ]
  },
  {
   "cell_type": "code",
   "execution_count": null,
   "id": "188d453a",
   "metadata": {},
   "outputs": [],
   "source": [
    "from joblib import Parallel, delayed"
   ]
  },
  {
   "cell_type": "code",
   "execution_count": null,
   "id": "3efef453",
   "metadata": {},
   "outputs": [],
   "source": [
    "kegg_genes = [get_genes_for_kegg_rid(x) for x in tqdm(unique_kegg_rids)]"
   ]
  },
  {
   "cell_type": "code",
   "execution_count": null,
   "id": "a563420b",
   "metadata": {},
   "outputs": [],
   "source": [
    "kegg_gene_ids = [[y.split('/')[-1] for y in x] for x in kegg_genes]"
   ]
  },
  {
   "cell_type": "code",
   "execution_count": null,
   "id": "81c3f34c",
   "metadata": {},
   "outputs": [],
   "source": [
    "#UNCOMMENT TO SAVE\n",
    "# with open('kegg_rids_to_genes.json','w') as f:\n",
    "#     json.dump(dict(zip(unique_kegg_rids, kegg_gene_ids)), f)\n"
   ]
  },
  {
   "cell_type": "code",
   "execution_count": null,
   "id": "79657113",
   "metadata": {},
   "outputs": [],
   "source": [
    "def parse_kegg_header (kegg_header):\n",
    "    if '[' in kegg_header:\n",
    "        pattern = r'>(\\w+:\\w+)\\s+(\\w+)\\s+(.*)\\s+\\['\n",
    "    else:\n",
    "        pattern = r'>(\\w+:\\w+)\\s+(\\w+)\\s+(.*)'\n",
    "    # Use re.match to apply the pattern to the input string\n",
    "    match = re.match(pattern, kegg_header)\n",
    "\n",
    "    if match:\n",
    "        # Extract matched groups\n",
    "        gene_id = match.group(1)\n",
    "        id_value = match.group(2)\n",
    "        common_name = match.group(3)\n",
    "\n",
    "        # Create the desired output\n",
    "        result = {\n",
    "            'gene_id': gene_id,\n",
    "            'id': id_value,\n",
    "            'common_name': common_name,\n",
    "        }\n",
    "        ec_pattern = r'\\[EC:(.*)\\]'\n",
    "        ec_match = re.findall(ec_pattern, kegg_header)\n",
    "        if len(ec_match):\n",
    "            ec_numbers = ec_match[0]\n",
    "            result['ec_numbers'] = ec_numbers.split(' ')\n",
    "        return result\n",
    "    else:\n",
    "        print(\"No match found.\")\n",
    "        return None\n",
    "    \n",
    "def parse_kegg_fasta(kegg_fasta):\n",
    "    split = kegg_fasta.split('\\n')\n",
    "    header = split[1]\n",
    "    results = parse_kegg_header(header)\n",
    "    results['sequence'] = ''.join(split[2:])\n",
    "    return results\n",
    "\n",
    "input_string = \">iho:Igni_0595 K14534 4-hydroxybutyryl-CoA dehydratase / vinylacetyl-CoA-Delta-isomerase [EC:4.2.1.120 5.3.3.3]\"\n",
    "parse_kegg_header(input_string)"
   ]
  },
  {
   "cell_type": "code",
   "execution_count": null,
   "id": "181f9727",
   "metadata": {},
   "outputs": [],
   "source": [
    "input_string = \">iho:Igni_0595 K14534 4-hydroxybutyryl-CoA dehydratase / vinylacetyl-CoA-Delta-isomerase [EC:4.2.1.120 5.3.3.3]\"\n",
    "\n",
    "pattern = r'\\[EC:(.*)\\]'\n",
    "\n",
    "match = re.search(pattern, input_string)"
   ]
  },
  {
   "cell_type": "code",
   "execution_count": null,
   "id": "3dd8621a",
   "metadata": {},
   "outputs": [],
   "source": [
    "kegg_rids_to_genes = dict(zip(unique_kegg_rids, kegg_gene_ids))"
   ]
  },
  {
   "cell_type": "code",
   "execution_count": null,
   "id": "0c7296f1",
   "metadata": {},
   "outputs": [],
   "source": [
    "kegg_rids_to_sequence = {}"
   ]
  },
  {
   "cell_type": "code",
   "execution_count": null,
   "id": "f95a81db",
   "metadata": {},
   "outputs": [],
   "source": [
    "def retrieve_sequence_for_first_gene(list_of_genes):\n",
    "    list_of_genes = [x for x in list_of_genes if x]\n",
    "    if list_of_genes:\n",
    "        try:\n",
    "            gene_to_query = list_of_genes[0]\n",
    "            res = requests.get('https://www.genome.jp/entry/-f+-n+a+'+gene_to_query)\n",
    "            soup = BeautifulSoup(res.text, 'html.parser')\n",
    "            return parse_kegg_fasta(soup.find_all('pre')[0].text)\n",
    "        except IndexError:\n",
    "            return None\n",
    "        except TypeError:\n",
    "            print(list_of_genes)\n",
    "            return None\n",
    "        "
   ]
  },
  {
   "cell_type": "code",
   "execution_count": null,
   "id": "78a8ccde",
   "metadata": {},
   "outputs": [],
   "source": [
    "kegg_sequences = Parallel(n_jobs=16)(delayed(retrieve_sequence_for_first_gene)(x) for x in tqdm(list(kegg_rids_to_genes.values())))"
   ]
  },
  {
   "cell_type": "code",
   "execution_count": null,
   "id": "c15cc6a9",
   "metadata": {},
   "outputs": [],
   "source": [
    "kegg_rids_to_sequences = dict(zip(unique_kegg_rids, kegg_sequences))"
   ]
  },
  {
   "cell_type": "code",
   "execution_count": null,
   "id": "8af348b9",
   "metadata": {},
   "outputs": [],
   "source": [
    "{r for r,s in kegg_rids_to_sequences.items() if s is None}"
   ]
  },
  {
   "cell_type": "code",
   "execution_count": null,
   "id": "9c8236f1",
   "metadata": {},
   "outputs": [],
   "source": [
    "len(kegg_rids_to_genes)"
   ]
  },
  {
   "cell_type": "code",
   "execution_count": null,
   "id": "0cdf9ce8",
   "metadata": {},
   "outputs": [],
   "source": [
    "len([r for r in kegg_genes if not len(r)])"
   ]
  },
  {
   "cell_type": "code",
   "execution_count": null,
   "id": "add14013",
   "metadata": {},
   "outputs": [],
   "source": [
    "if None:\n",
    "    print ('hi')"
   ]
  },
  {
   "cell_type": "code",
   "execution_count": null,
   "id": "a9a764de",
   "metadata": {},
   "outputs": [],
   "source": [
    "retrieve_sequence_for_first_gene(kegg_rids_to_genes['R04132'])"
   ]
  },
  {
   "cell_type": "code",
   "execution_count": null,
   "id": "98a9b40e",
   "metadata": {},
   "outputs": [],
   "source": [
    "kegg_rids_to_genes['R04132']"
   ]
  },
  {
   "cell_type": "code",
   "execution_count": null,
   "id": "4635483c",
   "metadata": {},
   "outputs": [],
   "source": [
    "get_genes_for_kegg_rid('R07370')"
   ]
  },
  {
   "cell_type": "code",
   "execution_count": null,
   "id": "07138a33",
   "metadata": {},
   "outputs": [],
   "source": [
    "kegg_rids_to_genes['R00672']"
   ]
  },
  {
   "cell_type": "code",
   "execution_count": null,
   "id": "9d70f31a",
   "metadata": {},
   "outputs": [],
   "source": [
    "kegg_rids_to_genes['R00015']"
   ]
  },
  {
   "cell_type": "code",
   "execution_count": null,
   "id": "9931dd0b",
   "metadata": {},
   "outputs": [],
   "source": [
    "kegg_rids_to_genes"
   ]
  },
  {
   "cell_type": "code",
   "execution_count": null,
   "id": "25b3f8e1",
   "metadata": {},
   "outputs": [],
   "source": []
  }
 ],
 "metadata": {
  "kernelspec": {
   "display_name": "crawl",
   "language": "python",
   "name": "crawl"
  },
  "language_info": {
   "codemirror_mode": {
    "name": "ipython",
    "version": 3
   },
   "file_extension": ".py",
   "mimetype": "text/x-python",
   "name": "python",
   "nbconvert_exporter": "python",
   "pygments_lexer": "ipython3",
   "version": "3.9.12"
  }
 },
 "nbformat": 4,
 "nbformat_minor": 5
}
