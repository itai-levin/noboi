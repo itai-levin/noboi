{
 "cells": [
  {
   "cell_type": "code",
   "execution_count": null,
   "id": "b583b411",
   "metadata": {},
   "outputs": [],
   "source": [
    "import pandas as pd\n",
    "from tqdm import tqdm"
   ]
  },
  {
   "cell_type": "code",
   "execution_count": null,
   "id": "8da3bff8",
   "metadata": {},
   "outputs": [],
   "source": [
    "from zeep import Client\n",
    "import hashlib\n",
    "\n",
    "wsdl = \"https://www.brenda-enzymes.org/soap/brenda_zeep.wsdl\"\n",
    "password = hashlib.sha256(\"bioretro\".encode(\"utf-8\")).hexdigest()\n",
    "client = Client(wsdl)\n",
    "parameters = ( \"itail@mit.edu\",password, \"ecNumber*1.1\", \"sequence*\", \"noOfAminoAcids*\", \"firstAccessionCode*\", \"source*\", \"id*\", \"organism*\")\n",
    "              \n",
    "#               \"ecNumber*1.1.1.1\",\"organism*Homo sapiens\",\"kmValue*\",\n",
    "#               \"kmValueMaximum*\",\"substrate*\",\"commentary*\",\"ligandStructureId*\",\"literature*\" )\n",
    "#               \"22834\")\n",
    "# resultString = client.service.getReferenceById(*parameters)\n",
    "resultString = client.service.getSequence(*parameters)#.getKmValue(*parameters)\n",
    "print (resultString)"
   ]
  },
  {
   "cell_type": "code",
   "execution_count": null,
   "id": "003d504a",
   "metadata": {},
   "outputs": [],
   "source": [
    "import pandas as pd"
   ]
  },
  {
   "cell_type": "code",
   "execution_count": null,
   "id": "f0313f0a",
   "metadata": {},
   "outputs": [],
   "source": [
    "bkms_df = pd.read_csv('bkms/1Sep2023_bkms-mapped.txt', sep='\\t')"
   ]
  },
  {
   "cell_type": "code",
   "execution_count": null,
   "id": "251c23f7",
   "metadata": {},
   "outputs": [],
   "source": [
    "brenda_subset_df = bkms_df[~bkms_df['Reaction_ID_BRENDA'].isna()]"
   ]
  },
  {
   "cell_type": "code",
   "execution_count": null,
   "id": "a374ce9d",
   "metadata": {},
   "outputs": [],
   "source": [
    "# check that almost all entries with no e.c. number are duplicates\n",
    "brenda_w_ec = brenda_subset_df[~brenda_subset_df['EC_Number'].isna()]\n",
    "brenda_wo_ec = brenda_subset_df[brenda_subset_df['EC_Number'].isna()]\n",
    "len(brenda_wo_ec[brenda_wo_ec['Reaction'].map(lambda x : x in brenda_w_ec['Reaction'].values)])\n",
    "# brenda_subset_df[brenda_subset_df['EC_Number'].isna()]"
   ]
  },
  {
   "cell_type": "code",
   "execution_count": null,
   "id": "18374438",
   "metadata": {},
   "outputs": [],
   "source": [
    "brenda_w_ec"
   ]
  },
  {
   "cell_type": "code",
   "execution_count": null,
   "id": "01fea27c",
   "metadata": {},
   "outputs": [],
   "source": [
    "wsdl = \"https://www.brenda-enzymes.org/soap/brenda_zeep.wsdl\"\n",
    "password = hashlib.sha256(\"bioretro\".encode(\"utf-8\")).hexdigest()\n",
    "client = Client(wsdl)\n",
    "parameters = ( \"itail@mit.edu\",password, \"ecNumber*5.3.3.3\", \"sequence*\", \"noOfAminoAcids*\", \"firstAccessionCode*\", \"source*\", \"id*\", \"organism*\")\n",
    "              \n",
    "#               \"ecNumber*1.1.1.1\",\"organism*Homo sapiens\",\"kmValue*\",\n",
    "#               \"kmValueMaximum*\",\"substrate*\",\"commentary*\",\"ligandStructureId*\",\"literature*\" )\n",
    "#               \"22834\")\n",
    "# resultString = client.service.getReferenceById(*parameters)\n",
    "resultString = client.service.getSequence(*parameters)#.getKmValue(*parameters)\n",
    "print (resultString)"
   ]
  },
  {
   "cell_type": "code",
   "execution_count": null,
   "id": "004f0103",
   "metadata": {},
   "outputs": [],
   "source": [
    "wsdl = \"https://www.brenda-enzymes.org/soap/brenda_zeep.wsdl\"\n",
    "password = hashlib.sha256(\"bioretro\".encode(\"utf-8\")).hexdigest()\n",
    "client = Client(wsdl)\n",
    "parameters = ( \"itail@mit.edu\",password, \"ecNumber*5.3.3.3\",\"organism*\", \"reaction*\", \"commentary*\", \"literature*\")\n",
    "              \n",
    "#               \"ecNumber*1.1.1.1\",\"organism*Homo sapiens\",\"kmValue*\",\n",
    "#               \"kmValueMaximum*\",\"substrate*\",\"commentary*\",\"ligandStructureId*\",\"literature*\" )\n",
    "#               \"22834\")\n",
    "# resultString = client.service.getReferenceById(*parameters)\n",
    "resultString = client.service.getReaction(*parameters)#.getKmValue(*parameters)\n",
    "print (resultString)"
   ]
  },
  {
   "cell_type": "code",
   "execution_count": null,
   "id": "172c5ae7",
   "metadata": {},
   "outputs": [],
   "source": [
    "\n",
    "wsdl = \"https://www.brenda-enzymes.org/soap/brenda_zeep.wsdl\"\n",
    "password = hashlib.sha256(\"bioretro\".encode(\"utf-8\")).hexdigest()\n",
    "client = Client(wsdl)\n",
    "parameters = ( \"itail@mit.edu\",password, \"ecNumber*5.3.3.3\",\"role*\", \"ligand*\", \"organism*\", \"ligandStructureId*\")\n",
    "              \n",
    "#               \"ecNumber*1.1.1.1\",\"organism*Homo sapiens\",\"kmValue*\",\n",
    "#               \"kmValueMaximum*\",\"substrate*\",\"commentary*\",\"ligandStructureId*\",\"literature*\" )\n",
    "#               \"22834\")\n",
    "# resultString = client.service.getReferenceById(*parameters)\n",
    "resultString = client.service.getLigands(*parameters)#.getKmValue(*parameters)\n",
    "print (resultString)"
   ]
  },
  {
   "cell_type": "code",
   "execution_count": null,
   "id": "d997216e",
   "metadata": {},
   "outputs": [],
   "source": [
    "parameters = (\"itail@mit.edu\",password,\"ecNumber*5.3.3.3\", \"substrate*\", \"reactionPartners*\", \"organism*\", \"ligandStructureId*\")\n",
    "resultString = client.service.getSubstrate(*parameters)\n",
    "print (resultString)"
   ]
  },
  {
   "cell_type": "code",
   "execution_count": null,
   "id": "354b3e24",
   "metadata": {},
   "outputs": [],
   "source": [
    "parameters = (\"itail@mit.edu\",password,\"ecNumber*5.3.3.3\", \"substrates*\", \n",
    "              \"commentarySubstrates*\", \"literatureSubstrates*\", \"organismSubstrates*\", \"products*\", \n",
    "              \"commentaryProducts*\", \"literatureProducts*\", \"organismProducts*\", \"reversibility*\", \"reversibility*\")\n",
    "resultString = client.service.getSubstratesProducts(*parameters)\n",
    "print (resultString)"
   ]
  },
  {
   "cell_type": "code",
   "execution_count": null,
   "id": "20d2e8f0",
   "metadata": {},
   "outputs": [],
   "source": [
    "parameters = (\"itail@mit.edu\",password,\"ecNumber*5.3.3.3\", \"naturalSubstrates*\",\n",
    "              \"organismNaturalSubstrates*\", \"commentaryNaturalSubstrates*\",\n",
    "              \"naturalProducts*\", \"commentaryNaturalProducts*\", \"organismNaturalProducts*\",\n",
    "              \"reversibility*\", \"reversibility*\")\n",
    "resultString = client.service.getNaturalSubstratesProducts(*parameters)\n",
    "print (resultString)"
   ]
  },
  {
   "cell_type": "code",
   "execution_count": null,
   "id": "28ddee1c",
   "metadata": {},
   "outputs": [],
   "source": [
    "import json"
   ]
  },
  {
   "cell_type": "code",
   "execution_count": null,
   "id": "d62b28d5",
   "metadata": {},
   "outputs": [],
   "source": [
    "with open('/Users/Itai/Downloads/brenda_2023_1 3.json','r') as f:\n",
    "    brenda_flatfile = json.load(f)"
   ]
  },
  {
   "cell_type": "code",
   "execution_count": null,
   "id": "fb5e92cc",
   "metadata": {},
   "outputs": [],
   "source": [
    "brenda_flatfile['data'].keys()"
   ]
  },
  {
   "cell_type": "code",
   "execution_count": null,
   "id": "039333a8",
   "metadata": {},
   "outputs": [],
   "source": [
    "brenda_flatfile['data']['4.2.3.21'].keys()"
   ]
  },
  {
   "cell_type": "code",
   "execution_count": null,
   "id": "5aba7632",
   "metadata": {},
   "outputs": [],
   "source": [
    "brenda_flatfile['data']['4.2.3.21']['reaction']"
   ]
  },
  {
   "cell_type": "code",
   "execution_count": null,
   "id": "4963d120",
   "metadata": {},
   "outputs": [],
   "source": [
    "import requests\n",
    "from bs4 import BeautifulSoup"
   ]
  },
  {
   "cell_type": "code",
   "execution_count": null,
   "id": "4aad5c17",
   "metadata": {},
   "outputs": [],
   "source": [
    "url = 'https://www.brenda-enzymes.org/enzyme.php?ecno=4.2.3.21#SUBSTRATE'\n",
    "res = requests.get(url)\n",
    "soup = BeautifulSoup(res.text, 'html.parser')\n",
    "[s.get('span') for s in soup.find_all('div')]\n",
    "# soup"
   ]
  },
  {
   "cell_type": "code",
   "execution_count": null,
   "id": "450d5bf1",
   "metadata": {},
   "outputs": [],
   "source": [
    "type(soup.find_all('div'))"
   ]
  },
  {
   "cell_type": "code",
   "execution_count": null,
   "id": "2d1e8845",
   "metadata": {},
   "outputs": [],
   "source": [
    "[x for x in soup.find_all('div', class_='cell') if 'trans,trans' in x.text]"
   ]
  },
  {
   "cell_type": "code",
   "execution_count": null,
   "id": "fa7a349d",
   "metadata": {},
   "outputs": [],
   "source": []
  },
  {
   "cell_type": "code",
   "execution_count": null,
   "id": "8c49bd0e",
   "metadata": {},
   "outputs": [],
   "source": [
    "for tag in soup.find_all('div'):\n",
    "    if 'trans,trans-farnesyl diphosphate' in tag.text and 'tab' in tag.text and not '1.1.1.1' in tag.text:\n",
    "        if tag.get('id') == 'tab37':\n",
    "            print ('~~~~~~~~~~~~~~~~~')\n",
    "            print ([x.text+'\\n' for x in tag.find_all('div')])"
   ]
  },
  {
   "cell_type": "code",
   "execution_count": null,
   "id": "76c93ea4",
   "metadata": {},
   "outputs": [],
   "source": [
    "# Find all the div elements with class 'hidden'\n",
    "hidden_divs = soup.find_all('div')#, class_='hidden')\n",
    "\n",
    "for div in hidden_divs:\n",
    "    # Extract values from the first, second, and fifth columns\n",
    "    cell0 = div.find('div', class_='cell', id=lambda x: x and x.endswith('c0'))\n",
    "    cell1 = div.find('div', class_='cell', id=lambda x: x and x.endswith('c1'))\n",
    "    cell4 = div.find('div', class_='cell', id=lambda x: x and x.endswith('c4'))\n",
    "\n",
    "    if cell0 and cell1 and cell4:\n",
    "        value0 = cell0.text.strip()\n",
    "        value1 = cell1.text.strip()\n",
    "        value4 = cell4.text.strip()\n",
    "\n",
    "        print(f\"Column 0: {value0}\\nColumn 1: {value1}\\nColumn 4: {value4}\\n\")"
   ]
  },
  {
   "cell_type": "code",
   "execution_count": null,
   "id": "17cd22ac",
   "metadata": {},
   "outputs": [],
   "source": [
    "hidden_divs"
   ]
  },
  {
   "cell_type": "code",
   "execution_count": null,
   "id": "b1d583eb",
   "metadata": {},
   "outputs": [],
   "source": [
    "soup.find('table')"
   ]
  },
  {
   "cell_type": "code",
   "execution_count": null,
   "id": "c9548ea1",
   "metadata": {},
   "outputs": [],
   "source": [
    "requests.get('https://www.brenda-enzymes.org/sequences.php?AC=F8WQD0').text"
   ]
  },
  {
   "cell_type": "code",
   "execution_count": null,
   "id": "efcfd051",
   "metadata": {},
   "outputs": [],
   "source": [
    "import re\n",
    "class BrendaPage():\n",
    "   \n",
    "    def __init__(self, url):\n",
    "        res = requests.get(url)\n",
    "        self.soup = BeautifulSoup(res.text, 'html.parser')\n",
    "        self.get_table_headers()\n",
    "        self.get_substrate_table_info()\n",
    "\n",
    "    def get_table_headers(self):\n",
    "        # return a dictionary of table numbers with a least of the headers for that table\n",
    "        header_divs = self.soup.find_all('div',id=re.compile('tab[0-9]+_head'))\n",
    "        self.table_headers_dict = {}\n",
    "        for tab_div in header_divs:\n",
    "            tab_num = int(re.findall('(?<=tab)[0-9]+(?=_head)', tab_div.get('id'))[0])\n",
    "            self.table_headers_dict[tab_num] = [x.strip() for x in tab_div.text.split('\\n') if len(x.strip())]\n",
    "\n",
    "    def _get_substrates_table_id(self):\n",
    "        #return id for SUBSTRATES table\n",
    "        titles = ['SUBSTRATE','PRODUCT','REACTION DIAGRAM','ORGANISM','UNIPROT']\n",
    "        substrate_table_id = [x for x in self.table_headers_dict if self.table_headers_dict[x][:5]==titles]\n",
    "        return substrate_table_id\n",
    "    \n",
    "    def get_substrate_table_info(self):\n",
    "        substrate_table_id = self._get_substrates_table_id()[0]\n",
    "        hidden_divs = self.soup.find_all('div', id=re.compile('^tab{}'.format(substrate_table_id)))\n",
    "        res_list = []\n",
    "        for div in hidden_divs:\n",
    "            # Extract values from the first, second, and fifth columns\n",
    "            res_dict = {}\n",
    "            for i,c in enumerate(self.table_headers_dict[substrate_table_id]):\n",
    "                cell = div.find('div', class_='cell', id=lambda x: x and x.endswith('c{}'.format(i)))\n",
    "                if cell:\n",
    "                    value = cell.text.strip()\n",
    "                    res_dict[c] = value\n",
    "            if res_dict.keys():\n",
    "                res_list.append(res_dict)\n",
    "        self.substrate_table_info = res_list\n",
    "    \n",
    "#     def get_results_from_substrates_table(self):\n",
    "#         get_substrates_table_id"
   ]
  },
  {
   "cell_type": "code",
   "execution_count": null,
   "id": "83a1f800",
   "metadata": {},
   "outputs": [],
   "source": [
    "url = 'https://www.brenda-enzymes.org/enzyme.php?ecno=4.2.3.21#SUBSTRATE'\n",
    "bp = BrendaPage(url)"
   ]
  },
  {
   "cell_type": "code",
   "execution_count": null,
   "id": "34069e35",
   "metadata": {},
   "outputs": [],
   "source": [
    "pd.DataFrame(bp.substrate_table_info)"
   ]
  },
  {
   "cell_type": "code",
   "execution_count": null,
   "id": "e4514462",
   "metadata": {},
   "outputs": [],
   "source": [
    "ec_numbers = list(brenda_flatfile['data'].keys())"
   ]
  },
  {
   "cell_type": "code",
   "execution_count": null,
   "id": "59a618c5",
   "metadata": {},
   "outputs": [],
   "source": [
    "urls = ['https://www.brenda-enzymes.org/enzyme.php?ecno={}#SUBSTRATE'.format(ec) for ec in ec_numbers]"
   ]
  },
  {
   "cell_type": "code",
   "execution_count": null,
   "id": "317348f1",
   "metadata": {},
   "outputs": [],
   "source": [
    "brenda_pages_results = {}\n",
    "for ec, url in tqdm(zip(ec_numbers[:10], urls[:10])):\n",
    "    try:\n",
    "        brenda_pages_results[ec] = BrendaPage(url).substrate_table_info\n",
    "    except Exception as e:\n",
    "        print (e, 'could not retrieve info for ec number {}'.format(ec))"
   ]
  },
  {
   "cell_type": "code",
   "execution_count": null,
   "id": "1f2498eb",
   "metadata": {},
   "outputs": [],
   "source": [
    "brenda_pages_results"
   ]
  },
  {
   "cell_type": "code",
   "execution_count": null,
   "id": "71973788",
   "metadata": {},
   "outputs": [],
   "source": [
    "with open('test_scraped_brenda_substrate_results.json', 'w') as f:\n",
    "    json.dump(brenda_pages_results,f)"
   ]
  },
  {
   "cell_type": "code",
   "execution_count": null,
   "id": "6046c6cc",
   "metadata": {},
   "outputs": [],
   "source": [
    "with open('test_scraped_brenda_substrate_results.json', 'r') as f:\n",
    "    print(json.load(f))"
   ]
  },
  {
   "cell_type": "code",
   "execution_count": null,
   "id": "f0e2190a",
   "metadata": {},
   "outputs": [],
   "source": []
  }
 ],
 "metadata": {
  "kernelspec": {
   "display_name": "crawl",
   "language": "python",
   "name": "crawl"
  },
  "language_info": {
   "codemirror_mode": {
    "name": "ipython",
    "version": 3
   },
   "file_extension": ".py",
   "mimetype": "text/x-python",
   "name": "python",
   "nbconvert_exporter": "python",
   "pygments_lexer": "ipython3",
   "version": "3.9.12"
  }
 },
 "nbformat": 4,
 "nbformat_minor": 5
}
