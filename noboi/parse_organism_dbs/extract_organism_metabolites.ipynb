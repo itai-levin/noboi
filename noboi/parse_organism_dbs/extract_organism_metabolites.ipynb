{
 "cells": [
  {
   "cell_type": "code",
   "execution_count": null,
   "id": "fd35c2a8",
   "metadata": {},
   "outputs": [],
   "source": [
    "from rdkit import Chem\n",
    "import pandas as pd\n",
    "import sys\n",
    "sys.path.append('..')\n",
    "from utils import *\n",
    "import glob\n",
    "import os"
   ]
  },
  {
   "cell_type": "code",
   "execution_count": null,
   "id": "a79d3d13",
   "metadata": {},
   "outputs": [],
   "source": [
    "# organism_name = \"e_coli\"\n",
    "# organism_name = \"s_cerevisiae\"\n",
    "# organism_name = \"b_subtilis\"\n",
    "# organism_name = \"a_thaliana\"\n",
    "# organism_name = 'm_musculus'\n",
    "# organism_name = 'p_marinus'\n",
    "# organism_name = 'h_sapiens'\n",
    "# organism_name = 'g_sulphuraria'\n",
    "# organism_name = 'r_capsulatus'\n",
    "# organism_name = 'r_gelatinosus'\n",
    "# organism_name = 'p_fluorescens'\n",
    "# organism_name = 'p_citronellolis'\n",
    "# organism_name = 'p_stutzerii'\n",
    "organism_name = 'p_protegens'\n",
    "\n",
    "CPDS_FILE = glob.glob(os.path.join(organism_name,\"*compounds*\"))[0]\n",
    "REACTIONS_FILE = glob.glob(os.path.join(organism_name,\"*reactions*\"))[0]\n",
    "SAVE_NAME = \"{}/{}_metabolites_from_pathways.csv\".format(organism_name, organism_name)\n",
    "\n",
    "print (CPDS_FILE)\n",
    "print (REACTIONS_FILE)\n",
    "print (SAVE_NAME)\n",
    "\n",
    "reaction_df = pd.read_csv(REACTIONS_FILE, sep='\\t').dropna(subset=['In-Pathway'])\n",
    "cpds_df = pd.read_csv(CPDS_FILE, sep='\\t').dropna()\n",
    "cpds_to_smiles = pd.Series(cpds_df['SMILES'].values, index=cpds_df['Compound'].values).to_dict()\n",
    "\n",
    "metabolites_strings = set([])\n",
    "for x in reaction_df['Substrates']:\n",
    "    for met in [y.strip() for y in x.split(' // ')]:\n",
    "        metabolites_strings.add(met)\n",
    "        \n",
    "metabolite_names = []\n",
    "metabolite_smiles = []\n",
    "for s in metabolites_strings:\n",
    "    try:\n",
    "        metabolite_smiles.append(standardize_smiles(cpds_to_smiles[s]))\n",
    "        metabolite_names.append(s)\n",
    "    except:\n",
    "        pass\n",
    "#         print ('Could not convert {} to SMILES'.format(s))\n",
    "\n",
    "print (\"Number of metabolites:\", len(metabolite_smiles))    "
   ]
  },
  {
   "cell_type": "code",
   "execution_count": null,
   "id": "2687b971",
   "metadata": {},
   "outputs": [],
   "source": [
    "## Uncommment to save\n",
    "\n",
    "pd.DataFrame({'name':metabolite_names, 'smiles':metabolite_smiles}).to_csv(SAVE_NAME, index=False, sep='\\t')\n",
    "print (\"DATA SAVED TO\", SAVE_NAME)"
   ]
  },
  {
   "cell_type": "code",
   "execution_count": null,
   "id": "88699d61",
   "metadata": {},
   "outputs": [],
   "source": []
  },
  {
   "cell_type": "code",
   "execution_count": null,
   "id": "cd99dd4f",
   "metadata": {},
   "outputs": [],
   "source": []
  }
 ],
 "metadata": {
  "kernelspec": {
   "display_name": "my-rdkit-env",
   "language": "python",
   "name": "my-rdkit-env"
  },
  "language_info": {
   "codemirror_mode": {
    "name": "ipython",
    "version": 3
   },
   "file_extension": ".py",
   "mimetype": "text/x-python",
   "name": "python",
   "nbconvert_exporter": "python",
   "pygments_lexer": "ipython3",
   "version": "3.11.0"
  }
 },
 "nbformat": 4,
 "nbformat_minor": 5
}
