{
 "cells": [
  {
   "cell_type": "code",
   "execution_count": null,
   "id": "fd35c2a8",
   "metadata": {},
   "outputs": [],
   "source": [
    "from rdkit import Chem\n",
    "import pandas as pd\n",
    "import sys\n",
    "sys.path.append('..')\n",
    "from utils import *\n",
    "import glob\n",
    "import os"
   ]
  },
  {
   "cell_type": "code",
   "execution_count": null,
   "id": "5ff5fb2e",
   "metadata": {},
   "outputs": [],
   "source": [
    "metanetx_df = pd.read_csv('metanetx/10May2023_metanetx_chem_prop.tsv', sep='\\t', comment='#').dropna(subset=['SMILES'])\n",
    "mnx_to_smiles = pd.Series(metanetx_df['SMILES'].values, index=metanetx_df['ID'].values).to_dict()"
   ]
  },
  {
   "cell_type": "code",
   "execution_count": null,
   "id": "a79d3d13",
   "metadata": {},
   "outputs": [],
   "source": [
    "# organism_name = 'p_aeruginosa'\n",
    "# organism_name = 'e_coli'\n",
    "# organism_name = 'p_putida'\n",
    "# organism_name = 'p_solanacearum'\n",
    "# organism_name = 'k_pneumoniae'\n",
    "organism_name = 'z_mays'\n",
    "CPDS_FILES = glob.glob(os.path.join(organism_name,\"*chemicals.tsv\"))\n",
    "SAVE_NAME = \"{}/{}_metabolites_from_metanetx_pathways.csv\".format(organism_name, organism_name)\n",
    "\n",
    "print (CPDS_FILES)"
   ]
  },
  {
   "cell_type": "code",
   "execution_count": null,
   "id": "3b3d6326",
   "metadata": {},
   "outputs": [],
   "source": [
    "cpds_df = pd.concat([pd.read_csv(file, sep='\\t', comment = '#', header=None) for file in CPDS_FILES])\n",
    "cpds_df"
   ]
  },
  {
   "cell_type": "code",
   "execution_count": null,
   "id": "e6eeb095",
   "metadata": {},
   "outputs": [],
   "source": [
    "cpds_df.columns = ['ID','name','source','formula','mass','charge','xrefs']\n",
    "cpds_df['smiles'] = [standardize_smiles(mnx_to_smiles[i]) if i in mnx_to_smiles.keys() else None for i in cpds_df['ID']]\n",
    "cpds_df = cpds_df.dropna(subset='smiles')\n",
    "cpds_df = cpds_df[cpds_df['smiles'].map(lambda x : '*' not in x)]\n",
    "cpds_df = cpds_df.drop_duplicates(subset=['smiles'])\n",
    "\n",
    "cpds_df"
   ]
  },
  {
   "cell_type": "code",
   "execution_count": null,
   "id": "2687b971",
   "metadata": {},
   "outputs": [],
   "source": [
    "## Uncommment to save\n",
    "\n",
    "pd.DataFrame({'name':cpds_df['name'].tolist(), 'smiles':cpds_df['smiles'].tolist()}).to_csv(SAVE_NAME, index=False, sep='\\t')\n",
    "print (\"DATA SAVED TO\", SAVE_NAME)"
   ]
  },
  {
   "cell_type": "code",
   "execution_count": null,
   "id": "04ae9b97",
   "metadata": {},
   "outputs": [],
   "source": [
    "metanetx_df"
   ]
  },
  {
   "cell_type": "code",
   "execution_count": null,
   "id": "9d5dd242",
   "metadata": {},
   "outputs": [],
   "source": [
    "metanetx_df['std_smiles'] = [standardize_smiles(s) for s in metanetx_df['SMILES']]"
   ]
  },
  {
   "cell_type": "code",
   "execution_count": null,
   "id": "41ab2246",
   "metadata": {},
   "outputs": [],
   "source": [
    "deduped = metanetx_df.drop_duplicates(subset='std_smiles')"
   ]
  },
  {
   "cell_type": "code",
   "execution_count": null,
   "id": "344f6b7b",
   "metadata": {},
   "outputs": [],
   "source": [
    "deduped['mol'] = [Chem.MolFromSmiles(s) for s in deduped['std_smiles']]"
   ]
  },
  {
   "cell_type": "code",
   "execution_count": null,
   "id": "ba7fc485",
   "metadata": {},
   "outputs": [],
   "source": [
    "deduped[deduped['std_smiles'].map(lambda x : '*' not in x)]"
   ]
  },
  {
   "cell_type": "code",
   "execution_count": null,
   "id": "63ea9d07",
   "metadata": {},
   "outputs": [],
   "source": []
  }
 ],
 "metadata": {
  "kernelspec": {
   "display_name": "my-rdkit-env",
   "language": "python",
   "name": "my-rdkit-env"
  },
  "language_info": {
   "codemirror_mode": {
    "name": "ipython",
    "version": 3
   },
   "file_extension": ".py",
   "mimetype": "text/x-python",
   "name": "python",
   "nbconvert_exporter": "python",
   "pygments_lexer": "ipython3",
   "version": "3.11.0"
  }
 },
 "nbformat": 4,
 "nbformat_minor": 5
}
