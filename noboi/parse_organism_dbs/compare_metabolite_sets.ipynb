{
 "cells": [
  {
   "cell_type": "code",
   "execution_count": null,
   "id": "d7fe7575",
   "metadata": {},
   "outputs": [],
   "source": [
    "import pandas as pd\n",
    "from matplotlib_venn import venn3, venn3_circles\n",
    "from matplotlib import pyplot as plt\n",
    "from rdkit import Chem"
   ]
  },
  {
   "cell_type": "code",
   "execution_count": null,
   "id": "80a7ffd2",
   "metadata": {},
   "outputs": [],
   "source": [
    "ec_met = set(pd.read_csv('e_coli/e_coli_metabolites_from_pathways.csv', sep='\\t')['smiles'])\n",
    "sc_met = set(pd.read_csv('b_subtilis/b_subtilis_metabolites_from_pathways.csv', sep='\\t')['smiles'])\n",
    "at_met = set(pd.read_csv('a_thaliana/a_thaliana_metabolites_from_pathways.csv', sep='\\t')['smiles'])"
   ]
  },
  {
   "cell_type": "code",
   "execution_count": null,
   "id": "c7b342e3",
   "metadata": {},
   "outputs": [],
   "source": [
    "plt.figure(figsize = (10,10))\n",
    "v = venn3([ec_met,sc_met,at_met], set_labels=[\"E. coli\", \"S. cerevisiae\", \"A. thaliana\"], )\n",
    "c = venn3_circles([ec_met,sc_met,at_met])\n",
    "plt.savefig('../../../../presentations/basic figures/organism_metabolite_set_overlaps.png', dpi=400)"
   ]
  },
  {
   "cell_type": "code",
   "execution_count": null,
   "id": "95765a6a",
   "metadata": {},
   "outputs": [],
   "source": [
    "ec_met - sc_met - at_met"
   ]
  },
  {
   "cell_type": "code",
   "execution_count": null,
   "id": "f03bf044",
   "metadata": {},
   "outputs": [],
   "source": []
  }
 ],
 "metadata": {
  "kernelspec": {
   "display_name": "my-rdkit-env",
   "language": "python",
   "name": "my-rdkit-env"
  },
  "language_info": {
   "codemirror_mode": {
    "name": "ipython",
    "version": 3
   },
   "file_extension": ".py",
   "mimetype": "text/x-python",
   "name": "python",
   "nbconvert_exporter": "python",
   "pygments_lexer": "ipython3",
   "version": "3.11.0"
  }
 },
 "nbformat": 4,
 "nbformat_minor": 5
}
