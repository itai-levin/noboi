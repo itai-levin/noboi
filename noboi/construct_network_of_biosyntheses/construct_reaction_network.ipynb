{
 "cells": [
  {
   "cell_type": "code",
   "execution_count": null,
   "id": "c44fdfe0",
   "metadata": {},
   "outputs": [],
   "source": [
    "import networkx as nx\n",
    "from rdkit import Chem\n",
    "from rdkit.Chem import AllChem\n",
    "import pandas as pd\n",
    "import numpy as np\n",
    "\n",
    "import os\n",
    "\n",
    "import matplotlib.pyplot as plt\n",
    "\n",
    "import re\n",
    "import uuid\n",
    "# import plotly.graph_objects as go\n",
    "import plotly.express as px\n",
    "import molplotly\n",
    "\n",
    "\n",
    "from queue import PriorityQueue\n",
    "\n",
    "import json\n",
    "\n",
    "import pickle5 as pickle\n",
    "\n",
    "from tqdm import tqdm\n",
    "\n",
    "import sys\n",
    "sys.path.append('..')\n",
    "from utils import *\n",
    "# sys.path.append('../../../forward_enumeration/')\n",
    "# from forward_enumeration import construct_enumeration_graph\n",
    "# from forward_enumeration import construct_pathway_from_list"
   ]
  },
  {
   "cell_type": "code",
   "execution_count": null,
   "id": "eef2d73a",
   "metadata": {},
   "outputs": [],
   "source": [
    "from datetime import date\n",
    "today = date.today()\n",
    "date = today.strftime('%d%b%Y')\n",
    "print ('Date prefix:', date)"
   ]
  },
  {
   "cell_type": "code",
   "execution_count": null,
   "id": "f12dc30f",
   "metadata": {},
   "outputs": [],
   "source": [
    "# enzymemap = pd.read_csv('/Users/Itai/Desktop/processed_reactions.csv')"
   ]
  },
  {
   "cell_type": "code",
   "execution_count": null,
   "id": "a2083834",
   "metadata": {},
   "outputs": [],
   "source": [
    "PRECOMPUTED_GRAPH_PATH = ''\n",
    "REACTION_FILES = ['../parse_reaction_dbs/rhea/21Nov2023_rhea_reaction_smiles_no_cofs_with_sequences.csv', \n",
    "                  '../parse_reaction_dbs/bkms/21Nov2023_bkms-mapped_w_seqs.tsv',  \n",
    "                  '../parse_reaction_dbs/metacyc/21Nov2023_metacyc_reaction_smiles_no_cofs_with_sequences.tsv']\n",
    "\n",
    "REACTION_COLUMN = ['reaction_smiles_no_cofs', 'smiles', 'reaction_smiles']\n",
    "\n",
    "REACTION_SET_NAME = ['_rhea','_bkms','_metacyc']\n",
    "\n",
    "# Generate network \n",
    "try:\n",
    "    with open(PRECOMPUTED_GRAPH_PATH, 'rb') as f:\n",
    "        met = pickle.load(f)\n",
    "    print ('Loading pre-computed graph')\n",
    "except:    \n",
    "    print ('RECOMPUTING GRAPH')\n",
    "    reaction_datasets = []\n",
    "\n",
    "    for f, c in zip(REACTION_FILES,REACTION_COLUMN):\n",
    "        df = pd.read_csv(f, sep='\\t')\n",
    "        df['smiles'] = df[c]\n",
    "        if 'Reaction' in df.columns: \n",
    "            reversibles = df[df['Reaction'].map(lambda x: '<=>' in str(x))].copy()\n",
    "            reversibles.loc[:,'smiles'] = reversibles['smiles'].map(lambda x: flip_reaction(x))\n",
    "            df = df.append(reversibles).reset_index()\n",
    "        df = df.dropna(subset='smiles')\n",
    "        df = df[df['smiles'].map(lambda x: '*' not in x)]\n",
    "        df['smiles'] = df['smiles'].map(lambda x: standardize_reaction_smiles(x))\n",
    "        reaction_datasets.append(df)\n",
    "    \n",
    "    reaction_df = reaction_datasets[0]\n",
    "    for i in range(len(reaction_datasets)-1):\n",
    "        print (REACTION_SET_NAME[i:i+2])\n",
    "        reaction_df = reaction_df.merge(reaction_datasets[i+1], on='smiles', how='outer',\n",
    "                                        suffixes=REACTION_SET_NAME[i:i+2])\n",
    "\n",
    "    for i in ['level_0', 'Unnamed: 0.1', 'Unnamed: 0']:\n",
    "        if i in reaction_df.columns:\n",
    "            reaction_df = reaction_df.drop(columns=[i])\n",
    "    \n",
    "    #merge sequence columns:\n",
    "    for idx in reaction_df.index:\n",
    "        any_seq = [x for x in reaction_df.loc[idx, ['sequence', 'sequence_rhea', 'sequence_bkms']] if not pd.isna(x)] \n",
    "        if len(any_seq):\n",
    "            reaction_df.loc[idx, 'sequence'] = any_seq[0]\n",
    "    \n",
    "    # get length of AA sequences    \n",
    "    seq_lengths = []\n",
    "    for idx, seq in zip(reaction_df.index, reaction_df['sequence'].values):\n",
    "        if seq == 'SPONTANEOUS' or reaction_df.loc[idx, 'SPONTANEOUS?']=='T' or \\\n",
    "        reaction_df.loc[idx, 'EC_Number']=='SPONTANEOUS' or 'spon' in str(reaction_df.loc[idx, 'Commentary_MetaCyc']).lower() or \\\n",
    "        'spon' in str(reaction_df.loc[idx, 'Commentary_KEGG']).lower():\n",
    "            seq_lengths.append(0)\n",
    "        elif seq is None or pd.isna(seq):\n",
    "            seq_lengths.append(None)\n",
    "        else:\n",
    "            seq_lengths.append(len(seq))\n",
    "    \n",
    "    reaction_df['seq_length'] = seq_lengths\n",
    "    df_subset = reaction_df.loc[:, ['smiles', 'seq_length']]\n",
    "    \n",
    "    # remove reactions with no SMILES\n",
    "    df_subset['smiles'] = [str(r) if r else None for r in df_subset['smiles']]\n",
    "    df_subset = df_subset.dropna(subset='smiles')\n",
    "    df_subset = df_subset[df_subset['smiles'].map(lambda x : len(x.split('>'))==3)]\n",
    "    df_subset = df_subset.groupby('smiles').max()\n",
    "    \n",
    "    all_smiles = list([str(r) for r in df_subset.index])\n",
    "    metadata = [{'aa_seq_len':x} for x in df_subset['seq_length']]\n",
    "    \n",
    "\n",
    "    print ('{} reactions in graph'.format(len(all_smiles)))\n",
    "    \n",
    "    print ('Computing graph')\n",
    "    \n",
    "    \n",
    "    \n",
    "    met = construct_pathway_from_list(all_smiles, metadata = metadata)\n",
    "\n",
    "print ('Number of nodes', len(met.nodes))\n",
    "print ('Number of edges', len(met.edges))\n",
    "print ('Number of connected components', nx.number_connected_components(nx.Graph(met)))\n",
    "\n",
    "\n",
    "print ('Number of reaction nodes', len([n for n in met.nodes if '>>' in n]))\n",
    "print ('Number of chemical nodes', len([n for n in met.nodes if '>>' not in n]))"
   ]
  },
  {
   "cell_type": "code",
   "execution_count": null,
   "id": "f053ba5e",
   "metadata": {},
   "outputs": [],
   "source": [
    "#TMP wanted to compare how the enzymemap database compares to the BKMS+BRENDA+Rhea \n",
    "# enzymemap_met = construct_pathway_from_list(enzymemapemap['unmapped'].values, ['']*len(enzymemap['unmapped'].values))\n",
    "# reactions_to_new_chems = {n:list(enzymemap_met.pred[n]) for n in enzymemap_met.nodes if n not in met.nodes and '>' not in n}"
   ]
  },
  {
   "cell_type": "code",
   "execution_count": null,
   "id": "eb788e2d",
   "metadata": {},
   "outputs": [],
   "source": [
    "n_t_s_df = pd.read_csv('../../../spectranalysis/13Jul2023_metabolite_name_to_smiles_df.tsv', sep='\\t')\n",
    "\n",
    "name_to_smiles = dict(zip(n_t_s_df['name'], n_t_s_df['smiles']))\n",
    "smiles_to_name = dict(zip(n_t_s_df['smiles'], n_t_s_df['name']))"
   ]
  },
  {
   "cell_type": "code",
   "execution_count": null,
   "id": "7fdc741b",
   "metadata": {},
   "outputs": [],
   "source": [
    "sum([n in smiles_to_name.keys() for n in met.nodes])"
   ]
  },
  {
   "cell_type": "code",
   "execution_count": null,
   "id": "86f5f8c2",
   "metadata": {},
   "outputs": [],
   "source": [
    "not_in_dict = [n for n in met.nodes if n not in smiles_to_name.keys() and '>>' not in n and '*' not in n]\n",
    "not_in_dict\n",
    "# Chem.Draw.MolsToGridImage([Chem.MolFromSmiles(n) for n in not_in_dict])"
   ]
  },
  {
   "cell_type": "code",
   "execution_count": null,
   "id": "189603ed",
   "metadata": {},
   "outputs": [],
   "source": [
    "reaction_df"
   ]
  },
  {
   "cell_type": "code",
   "execution_count": null,
   "id": "0b2bae72",
   "metadata": {},
   "outputs": [],
   "source": [
    "met.nodes['C#C.O>>CC=O']"
   ]
  },
  {
   "cell_type": "code",
   "execution_count": null,
   "id": "cac6e1f0",
   "metadata": {},
   "outputs": [],
   "source": [
    "#uncomment to save\n",
    "reaction_df.to_csv('{}_all_reaction_from{}.csv'.format(date, ''.join(REACTION_SET_NAME)), sep='\\t')\n",
    "nx.write_gpickle(met, '{}_whole_metabolic_network_labeled.pkl'.format(date))\n",
    "\n",
    "print ('Reactions saved to {}_all_reaction_from{}.csv'.format(date, ''.join(REACTION_SET_NAME)))\n",
    "print ('Network saved to {}_whole_metabolic_network_labeled.pkl'.format(date))"
   ]
  },
  {
   "cell_type": "code",
   "execution_count": null,
   "id": "58930b05",
   "metadata": {},
   "outputs": [],
   "source": [
    "reaction_df.columns"
   ]
  },
  {
   "cell_type": "code",
   "execution_count": null,
   "id": "c2d2926b",
   "metadata": {},
   "outputs": [],
   "source": [
    "reaction_df[reaction_df['smiles']==r'C=CC1=C(C)C2=Cc3c(C=C)c(C)c4n3[Fe-2]35n6c(c(C)c(CCC(=O)O)c6=CC6=[N+]3C(=C4)C(C)=C6CCC(=O)O)=CC1=[N+]25>>C=CC1=C(C)C(/C=c2/[nH]/c(=C\\c3[nH]c(/C=C4\\NC(=O)C(C)=C4C=C)c(C)c3CCC(=O)O)c(CCC(=O)O)c2C)=NC1=O.[Co].[Fe+2]'].dropna(axis=1)"
   ]
  },
  {
   "cell_type": "code",
   "execution_count": null,
   "id": "3c620049",
   "metadata": {},
   "outputs": [],
   "source": [
    "for idx in reaction_df.index:\n",
    "    any_seq = [x for x in reaction_df.loc[idx, ['sequence', 'sequence_rhea', 'sequence_bkms']] if not pd.isna(x)] \n",
    "    if len(any_seq):\n",
    "        print (any_seq[0])\n",
    "        "
   ]
  },
  {
   "cell_type": "code",
   "execution_count": null,
   "id": "f9b37b12",
   "metadata": {},
   "outputs": [],
   "source": [
    "met.nodes[r'C=CC1=C(C)C2=Cc3c(C=C)c(C)c4n3[Fe-2]35n6c(c(C)c(CCC(=O)O)c6=CC6=[N+]3C(=C4)C(C)=C6CCC(=O)O)=CC1=[N+]25>>C=CC1=C(C)C(/C=c2/[nH]/c(=C\\c3[nH]c(/C=C4\\NC(=O)C(C)=C4C=C)c(C)c3CCC(=O)O)c(CCC(=O)O)c2C)=NC1=O.[Co].[Fe+2]']"
   ]
  },
  {
   "cell_type": "code",
   "execution_count": null,
   "id": "0bf5b3ec",
   "metadata": {},
   "outputs": [],
   "source": [
    "met.pred['O=C1N=C(c2c[nH]c3ccccc23)C=C1c1c[nH]c2ccccc12']"
   ]
  },
  {
   "cell_type": "code",
   "execution_count": null,
   "id": "2fdb48c5",
   "metadata": {},
   "outputs": [],
   "source": [
    "met.nodes['O=C(O)c1[nH]c(-c2c[nH]c3ccccc23)cc1-c1c[nH]c2ccccc12.O=O.[H+]>>O.O=C1N=C(c2c[nH]c3ccccc23)C=C1c1c[nH]c2ccccc12.O=C=O']"
   ]
  },
  {
   "cell_type": "code",
   "execution_count": null,
   "id": "fff40a1a",
   "metadata": {},
   "outputs": [],
   "source": [
    "met.nodes['O=C(O)c1[nH]c(-c2c[nH]c3ccccc23)cc1-c1c[nH]c2ccccc12>>O=C1N=C(c2c[nH]c3ccccc23)C=C1c1c[nH]c2ccccc12']"
   ]
  },
  {
   "cell_type": "code",
   "execution_count": null,
   "id": "a07ff147",
   "metadata": {},
   "outputs": [],
   "source": [
    "reaction_df[reaction_df['Reaction'].map(lambda x: 'deoxyvio' in str(x))].dropna(axis=1,thresh=3)"
   ]
  },
  {
   "cell_type": "code",
   "execution_count": null,
   "id": "4e7b22e6",
   "metadata": {},
   "outputs": [],
   "source": [
    "[s for s, x in zip(all_smiles, seq_lengths) if x == 0]"
   ]
  },
  {
   "cell_type": "code",
   "execution_count": null,
   "id": "e863a3e9",
   "metadata": {},
   "outputs": [],
   "source": [
    "reaction_df.loc[34232, 'smiles']"
   ]
  },
  {
   "cell_type": "code",
   "execution_count": null,
   "id": "ba6bf4d9",
   "metadata": {},
   "outputs": [],
   "source": []
  }
 ],
 "metadata": {
  "kernelspec": {
   "display_name": "crawl",
   "language": "python",
   "name": "crawl"
  },
  "language_info": {
   "codemirror_mode": {
    "name": "ipython",
    "version": 3
   },
   "file_extension": ".py",
   "mimetype": "text/x-python",
   "name": "python",
   "nbconvert_exporter": "python",
   "pygments_lexer": "ipython3",
   "version": "3.9.12"
  }
 },
 "nbformat": 4,
 "nbformat_minor": 5
}
